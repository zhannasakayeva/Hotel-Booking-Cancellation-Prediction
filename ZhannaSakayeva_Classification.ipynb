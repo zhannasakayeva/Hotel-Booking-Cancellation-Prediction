{
 "cells": [
  {
   "cell_type": "markdown",
   "id": "dense-medicaid",
   "metadata": {
    "id": "dense-medicaid"
   },
   "source": [
    "# **Classification Project - Hotel Booking Cancellation Prediction**\n",
    "\n",
    "# **Marks: 30**\n",
    "\n",
    "Welcome to the project on classification. We will use the **INN Hotels dataset** for this project.\n",
    "\n",
    "--------------------------------\n",
    "## **Context** \n",
    "-------------------------------\n",
    "\n",
    "A significant number of hotel bookings are called off due to cancellations or no-shows. The typical reasons for cancellations include changes of plans, scheduling conflicts, etc. This is often made easier by the option to do so free of charge or preferably at a low cost which is beneficial to hotel guests but it is a less desirable and possibly revenue-diminishing factor for hotels to deal with. Such losses are particularly high on last-minute cancellations.\n",
    "\n",
    "The new technologies involving online booking channels have dramatically changed customers' booking possibilities and behavior. This adds a further dimension to the challenge of how hotels handle cancellations, which are no longer limited to traditional booking and guest characteristics.\n",
    "\n",
    "The cancellation of bookings potentially impacts a hotel on various fronts:\n",
    "1. Loss of resources (revenue) when the hotel cannot resell the room.\n",
    "2. Additional costs of distribution channels by increasing commissions or paying for publicity to help sell these rooms.\n",
    "3. Lowering prices at last minute, so the hotel can resell a room, resulting in reducing the profit margin.\n",
    "4. Human resources to make arrangements for the guests.\n",
    "\n",
    "----------------------------\n",
    "## **Objective**\n",
    "----------------------------- \n",
    "\n",
    "The increasing number of cancellations calls for a Machine Learning based solution that can help in predicting **which booking is likely to be canceled**. INN Hotels Group has a chain of hotels in Portugal, they are facing problems with the high number of booking cancellations and have reached out to your firm for data-driven solutions. You, as a data scientist, have to analyze the data provided to find which **factors have a high influence on booking cancellations, build a predictive model that can predict which booking is going to be canceled in advance, and help in formulating profitable policies for cancellations and refunds.**\n",
    "\n",
    "\n",
    "--------------------------\n",
    "## **Data Description**\n",
    "--------------------------\n",
    "\n",
    "The data contains the different attributes of customers' booking details. The detailed data dictionary is given below.\n",
    "\n",
    "\n",
    "**Data Dictionary**\n",
    "\n",
    "* Booking_ID: The unique identifier of each booking\n",
    "\n",
    "* no_of_adults: The number of adults\n",
    "\n",
    "* no_of_children: The number of children\n",
    "\n",
    "* no_of_weekend_nights: The number of weekend nights (Saturday and Sunday) the guest stayed or booked to stay at the hotel\n",
    "\n",
    "* no_of_week_nights: The number of weeknights (Monday to Friday) the guest stayed or booked to stay at the hotel\n",
    "\n",
    "* type_of_meal_plan: The type of meal plan booked by the customer:\n",
    "    * Not Selected – No meal plan selected\n",
    "    * Meal Plan 1 – Breakfast\n",
    "    * Meal Plan 2 – Half board (breakfast and one other meal)\n",
    "    * Meal Plan 3 – Full board (breakfast, lunch, and dinner)\n",
    "\n",
    "* required_car_parking_space: Does the customer require a car parking space? (0 - No, 1- Yes)\n",
    "\n",
    "* room_type_reserved: The type of room reserved by the customer. The values are ciphered (encoded) by INN Hotels.\n",
    "\n",
    "* lead_time: The number of days between the date of booking and the arrival date\n",
    "\n",
    "* arrival_year: The year of arrival date\n",
    "\n",
    "* arrival_month: The month of arrival date\n",
    "\n",
    "* arrival_date: The date of the month\n",
    "\n",
    "* market_segment_type: Market segment designation.\n",
    "\n",
    "* repeated_guest: Is the customer a repeated guest? (0 - No, 1- Yes)\n",
    "\n",
    "* no_of_previous_cancellations: The number of previous bookings that were canceled by the customer before the current booking\n",
    "\n",
    "* no_of_previous_bookings_not_canceled: The number of previous bookings not canceled by the customer before the current booking\n",
    "\n",
    "* avg_price_per_room: The average price per day for the reservation; prices of the rooms are dynamic. (in euros)\n",
    "\n",
    "* no_of_special_requests: The total number of special requests made by the customer (e.g. high floor, view from the room, etc.)\n",
    "\n",
    "* booking_status: Flag indicating if the booking was canceled or not."
   ]
  },
  {
   "cell_type": "markdown",
   "id": "m_H95w_NB5gi",
   "metadata": {
    "id": "m_H95w_NB5gi"
   },
   "source": [
    "## **Importing the necessary libraries and overview of the dataset**"
   ]
  },
  {
   "cell_type": "code",
   "execution_count": 1,
   "id": "hwwF_pNwB5gj",
   "metadata": {
    "id": "hwwF_pNwB5gj"
   },
   "outputs": [],
   "source": [
    "import warnings\n",
    "warnings.filterwarnings(\"ignore\")\n",
    "\n",
    "import pandas as pd\n",
    "import numpy as np\n",
    "import matplotlib.pyplot as plt\n",
    "import seaborn as sns\n",
    "\n",
    "# To scale the data using z-score \n",
    "from sklearn.preprocessing import StandardScaler\n",
    "\n",
    "from sklearn.model_selection import train_test_split\n",
    "\n",
    "# Algorithms to use\n",
    "from sklearn.linear_model import LogisticRegression\n",
    "from sklearn.neighbors import KNeighborsClassifier\n",
    "\n",
    "# To tune the model\n",
    "from sklearn.model_selection import GridSearchCV\n",
    "\n",
    "# Metrics to evaluate the model\n",
    "from sklearn.metrics import confusion_matrix, classification_report, precision_recall_curve"
   ]
  },
  {
   "cell_type": "markdown",
   "id": "fantastic-rebel",
   "metadata": {
    "id": "fantastic-rebel"
   },
   "source": [
    "### **Loading the data**"
   ]
  },
  {
   "cell_type": "code",
   "execution_count": 2,
   "id": "precious-leonard",
   "metadata": {
    "id": "precious-leonard"
   },
   "outputs": [],
   "source": [
    "hotel = pd.read_csv(\"INNHotelsGroup.csv\")"
   ]
  },
  {
   "cell_type": "code",
   "execution_count": 3,
   "id": "geographic-gender",
   "metadata": {
    "id": "geographic-gender"
   },
   "outputs": [],
   "source": [
    "# Copying data to another variable to avoid any changes to original data\n",
    "data = hotel.copy()"
   ]
  },
  {
   "cell_type": "markdown",
   "id": "convinced-blackberry",
   "metadata": {
    "id": "convinced-blackberry"
   },
   "source": [
    "### **View the first and the last 5 rows of the dataset**"
   ]
  },
  {
   "cell_type": "code",
   "execution_count": 4,
   "id": "tested-adjustment",
   "metadata": {
    "id": "tested-adjustment",
    "outputId": "5a49f79c-b530-49ec-aee1-b540342ffa6a"
   },
   "outputs": [
    {
     "data": {
      "text/html": [
       "<div>\n",
       "<style scoped>\n",
       "    .dataframe tbody tr th:only-of-type {\n",
       "        vertical-align: middle;\n",
       "    }\n",
       "\n",
       "    .dataframe tbody tr th {\n",
       "        vertical-align: top;\n",
       "    }\n",
       "\n",
       "    .dataframe thead th {\n",
       "        text-align: right;\n",
       "    }\n",
       "</style>\n",
       "<table border=\"1\" class=\"dataframe\">\n",
       "  <thead>\n",
       "    <tr style=\"text-align: right;\">\n",
       "      <th></th>\n",
       "      <th>Booking_ID</th>\n",
       "      <th>no_of_adults</th>\n",
       "      <th>no_of_children</th>\n",
       "      <th>no_of_weekend_nights</th>\n",
       "      <th>no_of_week_nights</th>\n",
       "      <th>type_of_meal_plan</th>\n",
       "      <th>required_car_parking_space</th>\n",
       "      <th>room_type_reserved</th>\n",
       "      <th>lead_time</th>\n",
       "      <th>arrival_year</th>\n",
       "      <th>arrival_month</th>\n",
       "      <th>arrival_date</th>\n",
       "      <th>market_segment_type</th>\n",
       "      <th>repeated_guest</th>\n",
       "      <th>no_of_previous_cancellations</th>\n",
       "      <th>no_of_previous_bookings_not_canceled</th>\n",
       "      <th>avg_price_per_room</th>\n",
       "      <th>no_of_special_requests</th>\n",
       "      <th>booking_status</th>\n",
       "    </tr>\n",
       "  </thead>\n",
       "  <tbody>\n",
       "    <tr>\n",
       "      <th>0</th>\n",
       "      <td>INN00001</td>\n",
       "      <td>2</td>\n",
       "      <td>0</td>\n",
       "      <td>1</td>\n",
       "      <td>2</td>\n",
       "      <td>Meal Plan 1</td>\n",
       "      <td>0</td>\n",
       "      <td>Room_Type 1</td>\n",
       "      <td>224</td>\n",
       "      <td>2017</td>\n",
       "      <td>10</td>\n",
       "      <td>2</td>\n",
       "      <td>Offline</td>\n",
       "      <td>0</td>\n",
       "      <td>0</td>\n",
       "      <td>0</td>\n",
       "      <td>65.00</td>\n",
       "      <td>0</td>\n",
       "      <td>Not_Canceled</td>\n",
       "    </tr>\n",
       "    <tr>\n",
       "      <th>1</th>\n",
       "      <td>INN00002</td>\n",
       "      <td>2</td>\n",
       "      <td>0</td>\n",
       "      <td>2</td>\n",
       "      <td>3</td>\n",
       "      <td>Not Selected</td>\n",
       "      <td>0</td>\n",
       "      <td>Room_Type 1</td>\n",
       "      <td>5</td>\n",
       "      <td>2018</td>\n",
       "      <td>11</td>\n",
       "      <td>6</td>\n",
       "      <td>Online</td>\n",
       "      <td>0</td>\n",
       "      <td>0</td>\n",
       "      <td>0</td>\n",
       "      <td>106.68</td>\n",
       "      <td>1</td>\n",
       "      <td>Not_Canceled</td>\n",
       "    </tr>\n",
       "    <tr>\n",
       "      <th>2</th>\n",
       "      <td>INN00003</td>\n",
       "      <td>1</td>\n",
       "      <td>0</td>\n",
       "      <td>2</td>\n",
       "      <td>1</td>\n",
       "      <td>Meal Plan 1</td>\n",
       "      <td>0</td>\n",
       "      <td>Room_Type 1</td>\n",
       "      <td>1</td>\n",
       "      <td>2018</td>\n",
       "      <td>2</td>\n",
       "      <td>28</td>\n",
       "      <td>Online</td>\n",
       "      <td>0</td>\n",
       "      <td>0</td>\n",
       "      <td>0</td>\n",
       "      <td>60.00</td>\n",
       "      <td>0</td>\n",
       "      <td>Canceled</td>\n",
       "    </tr>\n",
       "    <tr>\n",
       "      <th>3</th>\n",
       "      <td>INN00004</td>\n",
       "      <td>2</td>\n",
       "      <td>0</td>\n",
       "      <td>0</td>\n",
       "      <td>2</td>\n",
       "      <td>Meal Plan 1</td>\n",
       "      <td>0</td>\n",
       "      <td>Room_Type 1</td>\n",
       "      <td>211</td>\n",
       "      <td>2018</td>\n",
       "      <td>5</td>\n",
       "      <td>20</td>\n",
       "      <td>Online</td>\n",
       "      <td>0</td>\n",
       "      <td>0</td>\n",
       "      <td>0</td>\n",
       "      <td>100.00</td>\n",
       "      <td>0</td>\n",
       "      <td>Canceled</td>\n",
       "    </tr>\n",
       "    <tr>\n",
       "      <th>4</th>\n",
       "      <td>INN00005</td>\n",
       "      <td>2</td>\n",
       "      <td>0</td>\n",
       "      <td>1</td>\n",
       "      <td>1</td>\n",
       "      <td>Not Selected</td>\n",
       "      <td>0</td>\n",
       "      <td>Room_Type 1</td>\n",
       "      <td>48</td>\n",
       "      <td>2018</td>\n",
       "      <td>4</td>\n",
       "      <td>11</td>\n",
       "      <td>Online</td>\n",
       "      <td>0</td>\n",
       "      <td>0</td>\n",
       "      <td>0</td>\n",
       "      <td>94.50</td>\n",
       "      <td>0</td>\n",
       "      <td>Canceled</td>\n",
       "    </tr>\n",
       "  </tbody>\n",
       "</table>\n",
       "</div>"
      ],
      "text/plain": [
       "  Booking_ID  no_of_adults  no_of_children  no_of_weekend_nights  \\\n",
       "0   INN00001             2               0                     1   \n",
       "1   INN00002             2               0                     2   \n",
       "2   INN00003             1               0                     2   \n",
       "3   INN00004             2               0                     0   \n",
       "4   INN00005             2               0                     1   \n",
       "\n",
       "   no_of_week_nights type_of_meal_plan  required_car_parking_space  \\\n",
       "0                  2       Meal Plan 1                           0   \n",
       "1                  3      Not Selected                           0   \n",
       "2                  1       Meal Plan 1                           0   \n",
       "3                  2       Meal Plan 1                           0   \n",
       "4                  1      Not Selected                           0   \n",
       "\n",
       "  room_type_reserved  lead_time  arrival_year  arrival_month  arrival_date  \\\n",
       "0        Room_Type 1        224          2017             10             2   \n",
       "1        Room_Type 1          5          2018             11             6   \n",
       "2        Room_Type 1          1          2018              2            28   \n",
       "3        Room_Type 1        211          2018              5            20   \n",
       "4        Room_Type 1         48          2018              4            11   \n",
       "\n",
       "  market_segment_type  repeated_guest  no_of_previous_cancellations  \\\n",
       "0             Offline               0                             0   \n",
       "1              Online               0                             0   \n",
       "2              Online               0                             0   \n",
       "3              Online               0                             0   \n",
       "4              Online               0                             0   \n",
       "\n",
       "   no_of_previous_bookings_not_canceled  avg_price_per_room  \\\n",
       "0                                     0               65.00   \n",
       "1                                     0              106.68   \n",
       "2                                     0               60.00   \n",
       "3                                     0              100.00   \n",
       "4                                     0               94.50   \n",
       "\n",
       "   no_of_special_requests booking_status  \n",
       "0                       0   Not_Canceled  \n",
       "1                       1   Not_Canceled  \n",
       "2                       0       Canceled  \n",
       "3                       0       Canceled  \n",
       "4                       0       Canceled  "
      ]
     },
     "execution_count": 4,
     "metadata": {},
     "output_type": "execute_result"
    }
   ],
   "source": [
    "data.head()"
   ]
  },
  {
   "cell_type": "code",
   "execution_count": 5,
   "id": "demonstrated-charger",
   "metadata": {
    "id": "demonstrated-charger",
    "outputId": "0771f554-108a-4473-c622-8135ad412e3f"
   },
   "outputs": [
    {
     "data": {
      "text/html": [
       "<div>\n",
       "<style scoped>\n",
       "    .dataframe tbody tr th:only-of-type {\n",
       "        vertical-align: middle;\n",
       "    }\n",
       "\n",
       "    .dataframe tbody tr th {\n",
       "        vertical-align: top;\n",
       "    }\n",
       "\n",
       "    .dataframe thead th {\n",
       "        text-align: right;\n",
       "    }\n",
       "</style>\n",
       "<table border=\"1\" class=\"dataframe\">\n",
       "  <thead>\n",
       "    <tr style=\"text-align: right;\">\n",
       "      <th></th>\n",
       "      <th>Booking_ID</th>\n",
       "      <th>no_of_adults</th>\n",
       "      <th>no_of_children</th>\n",
       "      <th>no_of_weekend_nights</th>\n",
       "      <th>no_of_week_nights</th>\n",
       "      <th>type_of_meal_plan</th>\n",
       "      <th>required_car_parking_space</th>\n",
       "      <th>room_type_reserved</th>\n",
       "      <th>lead_time</th>\n",
       "      <th>arrival_year</th>\n",
       "      <th>arrival_month</th>\n",
       "      <th>arrival_date</th>\n",
       "      <th>market_segment_type</th>\n",
       "      <th>repeated_guest</th>\n",
       "      <th>no_of_previous_cancellations</th>\n",
       "      <th>no_of_previous_bookings_not_canceled</th>\n",
       "      <th>avg_price_per_room</th>\n",
       "      <th>no_of_special_requests</th>\n",
       "      <th>booking_status</th>\n",
       "    </tr>\n",
       "  </thead>\n",
       "  <tbody>\n",
       "    <tr>\n",
       "      <th>36270</th>\n",
       "      <td>INN36271</td>\n",
       "      <td>3</td>\n",
       "      <td>0</td>\n",
       "      <td>2</td>\n",
       "      <td>6</td>\n",
       "      <td>Meal Plan 1</td>\n",
       "      <td>0</td>\n",
       "      <td>Room_Type 4</td>\n",
       "      <td>85</td>\n",
       "      <td>2018</td>\n",
       "      <td>8</td>\n",
       "      <td>3</td>\n",
       "      <td>Online</td>\n",
       "      <td>0</td>\n",
       "      <td>0</td>\n",
       "      <td>0</td>\n",
       "      <td>167.80</td>\n",
       "      <td>1</td>\n",
       "      <td>Not_Canceled</td>\n",
       "    </tr>\n",
       "    <tr>\n",
       "      <th>36271</th>\n",
       "      <td>INN36272</td>\n",
       "      <td>2</td>\n",
       "      <td>0</td>\n",
       "      <td>1</td>\n",
       "      <td>3</td>\n",
       "      <td>Meal Plan 1</td>\n",
       "      <td>0</td>\n",
       "      <td>Room_Type 1</td>\n",
       "      <td>228</td>\n",
       "      <td>2018</td>\n",
       "      <td>10</td>\n",
       "      <td>17</td>\n",
       "      <td>Online</td>\n",
       "      <td>0</td>\n",
       "      <td>0</td>\n",
       "      <td>0</td>\n",
       "      <td>90.95</td>\n",
       "      <td>2</td>\n",
       "      <td>Canceled</td>\n",
       "    </tr>\n",
       "    <tr>\n",
       "      <th>36272</th>\n",
       "      <td>INN36273</td>\n",
       "      <td>2</td>\n",
       "      <td>0</td>\n",
       "      <td>2</td>\n",
       "      <td>6</td>\n",
       "      <td>Meal Plan 1</td>\n",
       "      <td>0</td>\n",
       "      <td>Room_Type 1</td>\n",
       "      <td>148</td>\n",
       "      <td>2018</td>\n",
       "      <td>7</td>\n",
       "      <td>1</td>\n",
       "      <td>Online</td>\n",
       "      <td>0</td>\n",
       "      <td>0</td>\n",
       "      <td>0</td>\n",
       "      <td>98.39</td>\n",
       "      <td>2</td>\n",
       "      <td>Not_Canceled</td>\n",
       "    </tr>\n",
       "    <tr>\n",
       "      <th>36273</th>\n",
       "      <td>INN36274</td>\n",
       "      <td>2</td>\n",
       "      <td>0</td>\n",
       "      <td>0</td>\n",
       "      <td>3</td>\n",
       "      <td>Not Selected</td>\n",
       "      <td>0</td>\n",
       "      <td>Room_Type 1</td>\n",
       "      <td>63</td>\n",
       "      <td>2018</td>\n",
       "      <td>4</td>\n",
       "      <td>21</td>\n",
       "      <td>Online</td>\n",
       "      <td>0</td>\n",
       "      <td>0</td>\n",
       "      <td>0</td>\n",
       "      <td>94.50</td>\n",
       "      <td>0</td>\n",
       "      <td>Canceled</td>\n",
       "    </tr>\n",
       "    <tr>\n",
       "      <th>36274</th>\n",
       "      <td>INN36275</td>\n",
       "      <td>2</td>\n",
       "      <td>0</td>\n",
       "      <td>1</td>\n",
       "      <td>2</td>\n",
       "      <td>Meal Plan 1</td>\n",
       "      <td>0</td>\n",
       "      <td>Room_Type 1</td>\n",
       "      <td>207</td>\n",
       "      <td>2018</td>\n",
       "      <td>12</td>\n",
       "      <td>30</td>\n",
       "      <td>Offline</td>\n",
       "      <td>0</td>\n",
       "      <td>0</td>\n",
       "      <td>0</td>\n",
       "      <td>161.67</td>\n",
       "      <td>0</td>\n",
       "      <td>Not_Canceled</td>\n",
       "    </tr>\n",
       "  </tbody>\n",
       "</table>\n",
       "</div>"
      ],
      "text/plain": [
       "      Booking_ID  no_of_adults  no_of_children  no_of_weekend_nights  \\\n",
       "36270   INN36271             3               0                     2   \n",
       "36271   INN36272             2               0                     1   \n",
       "36272   INN36273             2               0                     2   \n",
       "36273   INN36274             2               0                     0   \n",
       "36274   INN36275             2               0                     1   \n",
       "\n",
       "       no_of_week_nights type_of_meal_plan  required_car_parking_space  \\\n",
       "36270                  6       Meal Plan 1                           0   \n",
       "36271                  3       Meal Plan 1                           0   \n",
       "36272                  6       Meal Plan 1                           0   \n",
       "36273                  3      Not Selected                           0   \n",
       "36274                  2       Meal Plan 1                           0   \n",
       "\n",
       "      room_type_reserved  lead_time  arrival_year  arrival_month  \\\n",
       "36270        Room_Type 4         85          2018              8   \n",
       "36271        Room_Type 1        228          2018             10   \n",
       "36272        Room_Type 1        148          2018              7   \n",
       "36273        Room_Type 1         63          2018              4   \n",
       "36274        Room_Type 1        207          2018             12   \n",
       "\n",
       "       arrival_date market_segment_type  repeated_guest  \\\n",
       "36270             3              Online               0   \n",
       "36271            17              Online               0   \n",
       "36272             1              Online               0   \n",
       "36273            21              Online               0   \n",
       "36274            30             Offline               0   \n",
       "\n",
       "       no_of_previous_cancellations  no_of_previous_bookings_not_canceled  \\\n",
       "36270                             0                                     0   \n",
       "36271                             0                                     0   \n",
       "36272                             0                                     0   \n",
       "36273                             0                                     0   \n",
       "36274                             0                                     0   \n",
       "\n",
       "       avg_price_per_room  no_of_special_requests booking_status  \n",
       "36270              167.80                       1   Not_Canceled  \n",
       "36271               90.95                       2       Canceled  \n",
       "36272               98.39                       2   Not_Canceled  \n",
       "36273               94.50                       0       Canceled  \n",
       "36274              161.67                       0   Not_Canceled  "
      ]
     },
     "execution_count": 5,
     "metadata": {},
     "output_type": "execute_result"
    }
   ],
   "source": [
    "data.tail()"
   ]
  },
  {
   "cell_type": "markdown",
   "id": "creative-warner",
   "metadata": {
    "id": "creative-warner"
   },
   "source": [
    "### **Checking the info of the data**"
   ]
  },
  {
   "cell_type": "code",
   "execution_count": 6,
   "id": "expanded-technique",
   "metadata": {
    "id": "expanded-technique",
    "outputId": "a96250c8-79f8-4a28-d671-5849b398180a"
   },
   "outputs": [
    {
     "name": "stdout",
     "output_type": "stream",
     "text": [
      "<class 'pandas.core.frame.DataFrame'>\n",
      "RangeIndex: 36275 entries, 0 to 36274\n",
      "Data columns (total 19 columns):\n",
      " #   Column                                Non-Null Count  Dtype  \n",
      "---  ------                                --------------  -----  \n",
      " 0   Booking_ID                            36275 non-null  object \n",
      " 1   no_of_adults                          36275 non-null  int64  \n",
      " 2   no_of_children                        36275 non-null  int64  \n",
      " 3   no_of_weekend_nights                  36275 non-null  int64  \n",
      " 4   no_of_week_nights                     36275 non-null  int64  \n",
      " 5   type_of_meal_plan                     36275 non-null  object \n",
      " 6   required_car_parking_space            36275 non-null  int64  \n",
      " 7   room_type_reserved                    36275 non-null  object \n",
      " 8   lead_time                             36275 non-null  int64  \n",
      " 9   arrival_year                          36275 non-null  int64  \n",
      " 10  arrival_month                         36275 non-null  int64  \n",
      " 11  arrival_date                          36275 non-null  int64  \n",
      " 12  market_segment_type                   36275 non-null  object \n",
      " 13  repeated_guest                        36275 non-null  int64  \n",
      " 14  no_of_previous_cancellations          36275 non-null  int64  \n",
      " 15  no_of_previous_bookings_not_canceled  36275 non-null  int64  \n",
      " 16  avg_price_per_room                    36275 non-null  float64\n",
      " 17  no_of_special_requests                36275 non-null  int64  \n",
      " 18  booking_status                        36275 non-null  object \n",
      "dtypes: float64(1), int64(13), object(5)\n",
      "memory usage: 5.3+ MB\n"
     ]
    }
   ],
   "source": [
    "data.info()"
   ]
  },
  {
   "cell_type": "markdown",
   "id": "august-hopkins",
   "metadata": {
    "id": "august-hopkins"
   },
   "source": [
    "* The dataset has **36,275 rows and 19 columns**. \n",
    "\n",
    "* `Booking_ID`, `type_of_meal_plan`, `room_type_reserved`, `market_segment_type`, and `booking_status` are of **object type** while the rest of the columns are numeric in nature.\n",
    "\n",
    "* There are **no null values** in the dataset.\n",
    "\n",
    "* **Booking_ID column is an identifier**. Let's check if each entry of the column is unique."
   ]
  },
  {
   "cell_type": "code",
   "execution_count": 7,
   "id": "rH4eaqAYB5gn",
   "metadata": {
    "id": "rH4eaqAYB5gn",
    "outputId": "c5e1f846-db7f-48b0-b845-88d5728e20a2"
   },
   "outputs": [
    {
     "data": {
      "text/plain": [
       "36275"
      ]
     },
     "execution_count": 7,
     "metadata": {},
     "output_type": "execute_result"
    }
   ],
   "source": [
    "data.Booking_ID.nunique()"
   ]
  },
  {
   "cell_type": "markdown",
   "id": "wHnsORKhB5go",
   "metadata": {
    "id": "wHnsORKhB5go"
   },
   "source": [
    "**Observations:**\n",
    "- We can see that **all the entries of this column are unique**. Hence, this column would not add any value to our analysis. \n",
    "- Let's drop this column."
   ]
  },
  {
   "cell_type": "markdown",
   "id": "ALVKTamvB5go",
   "metadata": {
    "id": "ALVKTamvB5go"
   },
   "source": [
    "### **Dropping the Booking_ID column**"
   ]
  },
  {
   "cell_type": "code",
   "execution_count": 8,
   "id": "referenced-architect",
   "metadata": {
    "id": "referenced-architect"
   },
   "outputs": [],
   "source": [
    "data = data.drop([\"Booking_ID\"], axis = 1)"
   ]
  },
  {
   "cell_type": "code",
   "execution_count": 9,
   "id": "Jj7pIdPHB5go",
   "metadata": {
    "id": "Jj7pIdPHB5go",
    "outputId": "5d8de664-6ff3-441b-f6d3-940613b159ba"
   },
   "outputs": [
    {
     "data": {
      "text/html": [
       "<div>\n",
       "<style scoped>\n",
       "    .dataframe tbody tr th:only-of-type {\n",
       "        vertical-align: middle;\n",
       "    }\n",
       "\n",
       "    .dataframe tbody tr th {\n",
       "        vertical-align: top;\n",
       "    }\n",
       "\n",
       "    .dataframe thead th {\n",
       "        text-align: right;\n",
       "    }\n",
       "</style>\n",
       "<table border=\"1\" class=\"dataframe\">\n",
       "  <thead>\n",
       "    <tr style=\"text-align: right;\">\n",
       "      <th></th>\n",
       "      <th>no_of_adults</th>\n",
       "      <th>no_of_children</th>\n",
       "      <th>no_of_weekend_nights</th>\n",
       "      <th>no_of_week_nights</th>\n",
       "      <th>type_of_meal_plan</th>\n",
       "      <th>required_car_parking_space</th>\n",
       "      <th>room_type_reserved</th>\n",
       "      <th>lead_time</th>\n",
       "      <th>arrival_year</th>\n",
       "      <th>arrival_month</th>\n",
       "      <th>arrival_date</th>\n",
       "      <th>market_segment_type</th>\n",
       "      <th>repeated_guest</th>\n",
       "      <th>no_of_previous_cancellations</th>\n",
       "      <th>no_of_previous_bookings_not_canceled</th>\n",
       "      <th>avg_price_per_room</th>\n",
       "      <th>no_of_special_requests</th>\n",
       "      <th>booking_status</th>\n",
       "    </tr>\n",
       "  </thead>\n",
       "  <tbody>\n",
       "    <tr>\n",
       "      <th>0</th>\n",
       "      <td>2</td>\n",
       "      <td>0</td>\n",
       "      <td>1</td>\n",
       "      <td>2</td>\n",
       "      <td>Meal Plan 1</td>\n",
       "      <td>0</td>\n",
       "      <td>Room_Type 1</td>\n",
       "      <td>224</td>\n",
       "      <td>2017</td>\n",
       "      <td>10</td>\n",
       "      <td>2</td>\n",
       "      <td>Offline</td>\n",
       "      <td>0</td>\n",
       "      <td>0</td>\n",
       "      <td>0</td>\n",
       "      <td>65.00</td>\n",
       "      <td>0</td>\n",
       "      <td>Not_Canceled</td>\n",
       "    </tr>\n",
       "    <tr>\n",
       "      <th>1</th>\n",
       "      <td>2</td>\n",
       "      <td>0</td>\n",
       "      <td>2</td>\n",
       "      <td>3</td>\n",
       "      <td>Not Selected</td>\n",
       "      <td>0</td>\n",
       "      <td>Room_Type 1</td>\n",
       "      <td>5</td>\n",
       "      <td>2018</td>\n",
       "      <td>11</td>\n",
       "      <td>6</td>\n",
       "      <td>Online</td>\n",
       "      <td>0</td>\n",
       "      <td>0</td>\n",
       "      <td>0</td>\n",
       "      <td>106.68</td>\n",
       "      <td>1</td>\n",
       "      <td>Not_Canceled</td>\n",
       "    </tr>\n",
       "    <tr>\n",
       "      <th>2</th>\n",
       "      <td>1</td>\n",
       "      <td>0</td>\n",
       "      <td>2</td>\n",
       "      <td>1</td>\n",
       "      <td>Meal Plan 1</td>\n",
       "      <td>0</td>\n",
       "      <td>Room_Type 1</td>\n",
       "      <td>1</td>\n",
       "      <td>2018</td>\n",
       "      <td>2</td>\n",
       "      <td>28</td>\n",
       "      <td>Online</td>\n",
       "      <td>0</td>\n",
       "      <td>0</td>\n",
       "      <td>0</td>\n",
       "      <td>60.00</td>\n",
       "      <td>0</td>\n",
       "      <td>Canceled</td>\n",
       "    </tr>\n",
       "    <tr>\n",
       "      <th>3</th>\n",
       "      <td>2</td>\n",
       "      <td>0</td>\n",
       "      <td>0</td>\n",
       "      <td>2</td>\n",
       "      <td>Meal Plan 1</td>\n",
       "      <td>0</td>\n",
       "      <td>Room_Type 1</td>\n",
       "      <td>211</td>\n",
       "      <td>2018</td>\n",
       "      <td>5</td>\n",
       "      <td>20</td>\n",
       "      <td>Online</td>\n",
       "      <td>0</td>\n",
       "      <td>0</td>\n",
       "      <td>0</td>\n",
       "      <td>100.00</td>\n",
       "      <td>0</td>\n",
       "      <td>Canceled</td>\n",
       "    </tr>\n",
       "    <tr>\n",
       "      <th>4</th>\n",
       "      <td>2</td>\n",
       "      <td>0</td>\n",
       "      <td>1</td>\n",
       "      <td>1</td>\n",
       "      <td>Not Selected</td>\n",
       "      <td>0</td>\n",
       "      <td>Room_Type 1</td>\n",
       "      <td>48</td>\n",
       "      <td>2018</td>\n",
       "      <td>4</td>\n",
       "      <td>11</td>\n",
       "      <td>Online</td>\n",
       "      <td>0</td>\n",
       "      <td>0</td>\n",
       "      <td>0</td>\n",
       "      <td>94.50</td>\n",
       "      <td>0</td>\n",
       "      <td>Canceled</td>\n",
       "    </tr>\n",
       "  </tbody>\n",
       "</table>\n",
       "</div>"
      ],
      "text/plain": [
       "   no_of_adults  no_of_children  no_of_weekend_nights  no_of_week_nights  \\\n",
       "0             2               0                     1                  2   \n",
       "1             2               0                     2                  3   \n",
       "2             1               0                     2                  1   \n",
       "3             2               0                     0                  2   \n",
       "4             2               0                     1                  1   \n",
       "\n",
       "  type_of_meal_plan  required_car_parking_space room_type_reserved  lead_time  \\\n",
       "0       Meal Plan 1                           0        Room_Type 1        224   \n",
       "1      Not Selected                           0        Room_Type 1          5   \n",
       "2       Meal Plan 1                           0        Room_Type 1          1   \n",
       "3       Meal Plan 1                           0        Room_Type 1        211   \n",
       "4      Not Selected                           0        Room_Type 1         48   \n",
       "\n",
       "   arrival_year  arrival_month  arrival_date market_segment_type  \\\n",
       "0          2017             10             2             Offline   \n",
       "1          2018             11             6              Online   \n",
       "2          2018              2            28              Online   \n",
       "3          2018              5            20              Online   \n",
       "4          2018              4            11              Online   \n",
       "\n",
       "   repeated_guest  no_of_previous_cancellations  \\\n",
       "0               0                             0   \n",
       "1               0                             0   \n",
       "2               0                             0   \n",
       "3               0                             0   \n",
       "4               0                             0   \n",
       "\n",
       "   no_of_previous_bookings_not_canceled  avg_price_per_room  \\\n",
       "0                                     0               65.00   \n",
       "1                                     0              106.68   \n",
       "2                                     0               60.00   \n",
       "3                                     0              100.00   \n",
       "4                                     0               94.50   \n",
       "\n",
       "   no_of_special_requests booking_status  \n",
       "0                       0   Not_Canceled  \n",
       "1                       1   Not_Canceled  \n",
       "2                       0       Canceled  \n",
       "3                       0       Canceled  \n",
       "4                       0       Canceled  "
      ]
     },
     "execution_count": 9,
     "metadata": {},
     "output_type": "execute_result"
    }
   ],
   "source": [
    "data.head()"
   ]
  },
  {
   "cell_type": "markdown",
   "id": "realistic-mortgage",
   "metadata": {
    "id": "realistic-mortgage"
   },
   "source": [
    "## **Exploratory Data Analysis and Data Preprocessing**"
   ]
  },
  {
   "cell_type": "markdown",
   "id": "seeing-newman",
   "metadata": {
    "id": "seeing-newman"
   },
   "source": [
    "### **Summary Statistics for numerical columns**"
   ]
  },
  {
   "cell_type": "markdown",
   "id": "Rf8nqbG_B5gp",
   "metadata": {
    "id": "Rf8nqbG_B5gp"
   },
   "source": [
    "### **Question 1: Write the observations from the below summary statistics (2 Marks)**"
   ]
  },
  {
   "cell_type": "code",
   "execution_count": 10,
   "id": "pmSrQn_cB5gp",
   "metadata": {
    "id": "pmSrQn_cB5gp",
    "outputId": "a35a36f5-4771-44ac-80a8-55a1b7b6c2a7"
   },
   "outputs": [
    {
     "data": {
      "text/html": [
       "<div>\n",
       "<style scoped>\n",
       "    .dataframe tbody tr th:only-of-type {\n",
       "        vertical-align: middle;\n",
       "    }\n",
       "\n",
       "    .dataframe tbody tr th {\n",
       "        vertical-align: top;\n",
       "    }\n",
       "\n",
       "    .dataframe thead th {\n",
       "        text-align: right;\n",
       "    }\n",
       "</style>\n",
       "<table border=\"1\" class=\"dataframe\">\n",
       "  <thead>\n",
       "    <tr style=\"text-align: right;\">\n",
       "      <th></th>\n",
       "      <th>count</th>\n",
       "      <th>mean</th>\n",
       "      <th>std</th>\n",
       "      <th>min</th>\n",
       "      <th>25%</th>\n",
       "      <th>50%</th>\n",
       "      <th>75%</th>\n",
       "      <th>max</th>\n",
       "    </tr>\n",
       "  </thead>\n",
       "  <tbody>\n",
       "    <tr>\n",
       "      <th>no_of_adults</th>\n",
       "      <td>36275.0</td>\n",
       "      <td>1.844962</td>\n",
       "      <td>0.518715</td>\n",
       "      <td>0.0</td>\n",
       "      <td>2.0</td>\n",
       "      <td>2.00</td>\n",
       "      <td>2.0</td>\n",
       "      <td>4.0</td>\n",
       "    </tr>\n",
       "    <tr>\n",
       "      <th>no_of_children</th>\n",
       "      <td>36275.0</td>\n",
       "      <td>0.105279</td>\n",
       "      <td>0.402648</td>\n",
       "      <td>0.0</td>\n",
       "      <td>0.0</td>\n",
       "      <td>0.00</td>\n",
       "      <td>0.0</td>\n",
       "      <td>10.0</td>\n",
       "    </tr>\n",
       "    <tr>\n",
       "      <th>no_of_weekend_nights</th>\n",
       "      <td>36275.0</td>\n",
       "      <td>0.810724</td>\n",
       "      <td>0.870644</td>\n",
       "      <td>0.0</td>\n",
       "      <td>0.0</td>\n",
       "      <td>1.00</td>\n",
       "      <td>2.0</td>\n",
       "      <td>7.0</td>\n",
       "    </tr>\n",
       "    <tr>\n",
       "      <th>no_of_week_nights</th>\n",
       "      <td>36275.0</td>\n",
       "      <td>2.204300</td>\n",
       "      <td>1.410905</td>\n",
       "      <td>0.0</td>\n",
       "      <td>1.0</td>\n",
       "      <td>2.00</td>\n",
       "      <td>3.0</td>\n",
       "      <td>17.0</td>\n",
       "    </tr>\n",
       "    <tr>\n",
       "      <th>required_car_parking_space</th>\n",
       "      <td>36275.0</td>\n",
       "      <td>0.030986</td>\n",
       "      <td>0.173281</td>\n",
       "      <td>0.0</td>\n",
       "      <td>0.0</td>\n",
       "      <td>0.00</td>\n",
       "      <td>0.0</td>\n",
       "      <td>1.0</td>\n",
       "    </tr>\n",
       "    <tr>\n",
       "      <th>lead_time</th>\n",
       "      <td>36275.0</td>\n",
       "      <td>85.232557</td>\n",
       "      <td>85.930817</td>\n",
       "      <td>0.0</td>\n",
       "      <td>17.0</td>\n",
       "      <td>57.00</td>\n",
       "      <td>126.0</td>\n",
       "      <td>443.0</td>\n",
       "    </tr>\n",
       "    <tr>\n",
       "      <th>arrival_year</th>\n",
       "      <td>36275.0</td>\n",
       "      <td>2017.820427</td>\n",
       "      <td>0.383836</td>\n",
       "      <td>2017.0</td>\n",
       "      <td>2018.0</td>\n",
       "      <td>2018.00</td>\n",
       "      <td>2018.0</td>\n",
       "      <td>2018.0</td>\n",
       "    </tr>\n",
       "    <tr>\n",
       "      <th>arrival_month</th>\n",
       "      <td>36275.0</td>\n",
       "      <td>7.423653</td>\n",
       "      <td>3.069894</td>\n",
       "      <td>1.0</td>\n",
       "      <td>5.0</td>\n",
       "      <td>8.00</td>\n",
       "      <td>10.0</td>\n",
       "      <td>12.0</td>\n",
       "    </tr>\n",
       "    <tr>\n",
       "      <th>arrival_date</th>\n",
       "      <td>36275.0</td>\n",
       "      <td>15.596995</td>\n",
       "      <td>8.740447</td>\n",
       "      <td>1.0</td>\n",
       "      <td>8.0</td>\n",
       "      <td>16.00</td>\n",
       "      <td>23.0</td>\n",
       "      <td>31.0</td>\n",
       "    </tr>\n",
       "    <tr>\n",
       "      <th>repeated_guest</th>\n",
       "      <td>36275.0</td>\n",
       "      <td>0.025637</td>\n",
       "      <td>0.158053</td>\n",
       "      <td>0.0</td>\n",
       "      <td>0.0</td>\n",
       "      <td>0.00</td>\n",
       "      <td>0.0</td>\n",
       "      <td>1.0</td>\n",
       "    </tr>\n",
       "    <tr>\n",
       "      <th>no_of_previous_cancellations</th>\n",
       "      <td>36275.0</td>\n",
       "      <td>0.023349</td>\n",
       "      <td>0.368331</td>\n",
       "      <td>0.0</td>\n",
       "      <td>0.0</td>\n",
       "      <td>0.00</td>\n",
       "      <td>0.0</td>\n",
       "      <td>13.0</td>\n",
       "    </tr>\n",
       "    <tr>\n",
       "      <th>no_of_previous_bookings_not_canceled</th>\n",
       "      <td>36275.0</td>\n",
       "      <td>0.153411</td>\n",
       "      <td>1.754171</td>\n",
       "      <td>0.0</td>\n",
       "      <td>0.0</td>\n",
       "      <td>0.00</td>\n",
       "      <td>0.0</td>\n",
       "      <td>58.0</td>\n",
       "    </tr>\n",
       "    <tr>\n",
       "      <th>avg_price_per_room</th>\n",
       "      <td>36275.0</td>\n",
       "      <td>103.423539</td>\n",
       "      <td>35.089424</td>\n",
       "      <td>0.0</td>\n",
       "      <td>80.3</td>\n",
       "      <td>99.45</td>\n",
       "      <td>120.0</td>\n",
       "      <td>540.0</td>\n",
       "    </tr>\n",
       "    <tr>\n",
       "      <th>no_of_special_requests</th>\n",
       "      <td>36275.0</td>\n",
       "      <td>0.619655</td>\n",
       "      <td>0.786236</td>\n",
       "      <td>0.0</td>\n",
       "      <td>0.0</td>\n",
       "      <td>0.00</td>\n",
       "      <td>1.0</td>\n",
       "      <td>5.0</td>\n",
       "    </tr>\n",
       "  </tbody>\n",
       "</table>\n",
       "</div>"
      ],
      "text/plain": [
       "                                        count         mean        std     min  \\\n",
       "no_of_adults                          36275.0     1.844962   0.518715     0.0   \n",
       "no_of_children                        36275.0     0.105279   0.402648     0.0   \n",
       "no_of_weekend_nights                  36275.0     0.810724   0.870644     0.0   \n",
       "no_of_week_nights                     36275.0     2.204300   1.410905     0.0   \n",
       "required_car_parking_space            36275.0     0.030986   0.173281     0.0   \n",
       "lead_time                             36275.0    85.232557  85.930817     0.0   \n",
       "arrival_year                          36275.0  2017.820427   0.383836  2017.0   \n",
       "arrival_month                         36275.0     7.423653   3.069894     1.0   \n",
       "arrival_date                          36275.0    15.596995   8.740447     1.0   \n",
       "repeated_guest                        36275.0     0.025637   0.158053     0.0   \n",
       "no_of_previous_cancellations          36275.0     0.023349   0.368331     0.0   \n",
       "no_of_previous_bookings_not_canceled  36275.0     0.153411   1.754171     0.0   \n",
       "avg_price_per_room                    36275.0   103.423539  35.089424     0.0   \n",
       "no_of_special_requests                36275.0     0.619655   0.786236     0.0   \n",
       "\n",
       "                                         25%      50%     75%     max  \n",
       "no_of_adults                             2.0     2.00     2.0     4.0  \n",
       "no_of_children                           0.0     0.00     0.0    10.0  \n",
       "no_of_weekend_nights                     0.0     1.00     2.0     7.0  \n",
       "no_of_week_nights                        1.0     2.00     3.0    17.0  \n",
       "required_car_parking_space               0.0     0.00     0.0     1.0  \n",
       "lead_time                               17.0    57.00   126.0   443.0  \n",
       "arrival_year                          2018.0  2018.00  2018.0  2018.0  \n",
       "arrival_month                            5.0     8.00    10.0    12.0  \n",
       "arrival_date                             8.0    16.00    23.0    31.0  \n",
       "repeated_guest                           0.0     0.00     0.0     1.0  \n",
       "no_of_previous_cancellations             0.0     0.00     0.0    13.0  \n",
       "no_of_previous_bookings_not_canceled     0.0     0.00     0.0    58.0  \n",
       "avg_price_per_room                      80.3    99.45   120.0   540.0  \n",
       "no_of_special_requests                   0.0     0.00     1.0     5.0  "
      ]
     },
     "execution_count": 10,
     "metadata": {},
     "output_type": "execute_result"
    }
   ],
   "source": [
    "# Selecting numerical columns and checking the summary statistics\n",
    "num_cols = data.select_dtypes('number').columns\n",
    "\n",
    "data[num_cols].describe().T"
   ]
  },
  {
   "cell_type": "markdown",
   "id": "personal-detector",
   "metadata": {
    "id": "personal-detector"
   },
   "source": [
    "**Observations:**\n",
    "- We see that the variables required_car_parking_space, no_of_children, no_of_previous_cancellations, no_of_previous_bookings_not_canceled, repeated_guest have only max values. So it might mean that these variables will be less significant in our decision. \n",
    "- The average price per room is 103 euros per day on average. "
   ]
  },
  {
   "cell_type": "code",
   "execution_count": 11,
   "id": "y17IbR98B5gq",
   "metadata": {
    "id": "y17IbR98B5gq",
    "outputId": "23225b43-0a25-462c-f756-a6a45cd2eeca"
   },
   "outputs": [
    {
     "data": {
      "text/html": [
       "<div>\n",
       "<style scoped>\n",
       "    .dataframe tbody tr th:only-of-type {\n",
       "        vertical-align: middle;\n",
       "    }\n",
       "\n",
       "    .dataframe tbody tr th {\n",
       "        vertical-align: top;\n",
       "    }\n",
       "\n",
       "    .dataframe thead th {\n",
       "        text-align: right;\n",
       "    }\n",
       "</style>\n",
       "<table border=\"1\" class=\"dataframe\">\n",
       "  <thead>\n",
       "    <tr style=\"text-align: right;\">\n",
       "      <th></th>\n",
       "      <th>no_of_adults</th>\n",
       "      <th>no_of_children</th>\n",
       "      <th>no_of_weekend_nights</th>\n",
       "      <th>no_of_week_nights</th>\n",
       "      <th>type_of_meal_plan</th>\n",
       "      <th>required_car_parking_space</th>\n",
       "      <th>room_type_reserved</th>\n",
       "      <th>lead_time</th>\n",
       "      <th>arrival_year</th>\n",
       "      <th>arrival_month</th>\n",
       "      <th>arrival_date</th>\n",
       "      <th>market_segment_type</th>\n",
       "      <th>repeated_guest</th>\n",
       "      <th>no_of_previous_cancellations</th>\n",
       "      <th>no_of_previous_bookings_not_canceled</th>\n",
       "      <th>avg_price_per_room</th>\n",
       "      <th>no_of_special_requests</th>\n",
       "      <th>booking_status</th>\n",
       "    </tr>\n",
       "  </thead>\n",
       "  <tbody>\n",
       "    <tr>\n",
       "      <th>63</th>\n",
       "      <td>1</td>\n",
       "      <td>0</td>\n",
       "      <td>0</td>\n",
       "      <td>1</td>\n",
       "      <td>Meal Plan 1</td>\n",
       "      <td>0</td>\n",
       "      <td>Room_Type 1</td>\n",
       "      <td>2</td>\n",
       "      <td>2017</td>\n",
       "      <td>9</td>\n",
       "      <td>10</td>\n",
       "      <td>Complementary</td>\n",
       "      <td>0</td>\n",
       "      <td>0</td>\n",
       "      <td>0</td>\n",
       "      <td>0.0</td>\n",
       "      <td>1</td>\n",
       "      <td>Not_Canceled</td>\n",
       "    </tr>\n",
       "    <tr>\n",
       "      <th>145</th>\n",
       "      <td>1</td>\n",
       "      <td>0</td>\n",
       "      <td>0</td>\n",
       "      <td>2</td>\n",
       "      <td>Meal Plan 1</td>\n",
       "      <td>0</td>\n",
       "      <td>Room_Type 1</td>\n",
       "      <td>13</td>\n",
       "      <td>2018</td>\n",
       "      <td>6</td>\n",
       "      <td>1</td>\n",
       "      <td>Complementary</td>\n",
       "      <td>1</td>\n",
       "      <td>3</td>\n",
       "      <td>5</td>\n",
       "      <td>0.0</td>\n",
       "      <td>1</td>\n",
       "      <td>Not_Canceled</td>\n",
       "    </tr>\n",
       "    <tr>\n",
       "      <th>209</th>\n",
       "      <td>1</td>\n",
       "      <td>0</td>\n",
       "      <td>0</td>\n",
       "      <td>0</td>\n",
       "      <td>Meal Plan 1</td>\n",
       "      <td>0</td>\n",
       "      <td>Room_Type 1</td>\n",
       "      <td>4</td>\n",
       "      <td>2018</td>\n",
       "      <td>2</td>\n",
       "      <td>27</td>\n",
       "      <td>Complementary</td>\n",
       "      <td>0</td>\n",
       "      <td>0</td>\n",
       "      <td>0</td>\n",
       "      <td>0.0</td>\n",
       "      <td>1</td>\n",
       "      <td>Not_Canceled</td>\n",
       "    </tr>\n",
       "    <tr>\n",
       "      <th>266</th>\n",
       "      <td>1</td>\n",
       "      <td>0</td>\n",
       "      <td>0</td>\n",
       "      <td>2</td>\n",
       "      <td>Meal Plan 1</td>\n",
       "      <td>0</td>\n",
       "      <td>Room_Type 1</td>\n",
       "      <td>1</td>\n",
       "      <td>2017</td>\n",
       "      <td>8</td>\n",
       "      <td>12</td>\n",
       "      <td>Complementary</td>\n",
       "      <td>1</td>\n",
       "      <td>0</td>\n",
       "      <td>1</td>\n",
       "      <td>0.0</td>\n",
       "      <td>1</td>\n",
       "      <td>Not_Canceled</td>\n",
       "    </tr>\n",
       "    <tr>\n",
       "      <th>267</th>\n",
       "      <td>1</td>\n",
       "      <td>0</td>\n",
       "      <td>2</td>\n",
       "      <td>1</td>\n",
       "      <td>Meal Plan 1</td>\n",
       "      <td>0</td>\n",
       "      <td>Room_Type 1</td>\n",
       "      <td>4</td>\n",
       "      <td>2017</td>\n",
       "      <td>8</td>\n",
       "      <td>23</td>\n",
       "      <td>Complementary</td>\n",
       "      <td>0</td>\n",
       "      <td>0</td>\n",
       "      <td>0</td>\n",
       "      <td>0.0</td>\n",
       "      <td>1</td>\n",
       "      <td>Not_Canceled</td>\n",
       "    </tr>\n",
       "    <tr>\n",
       "      <th>...</th>\n",
       "      <td>...</td>\n",
       "      <td>...</td>\n",
       "      <td>...</td>\n",
       "      <td>...</td>\n",
       "      <td>...</td>\n",
       "      <td>...</td>\n",
       "      <td>...</td>\n",
       "      <td>...</td>\n",
       "      <td>...</td>\n",
       "      <td>...</td>\n",
       "      <td>...</td>\n",
       "      <td>...</td>\n",
       "      <td>...</td>\n",
       "      <td>...</td>\n",
       "      <td>...</td>\n",
       "      <td>...</td>\n",
       "      <td>...</td>\n",
       "      <td>...</td>\n",
       "    </tr>\n",
       "    <tr>\n",
       "      <th>35983</th>\n",
       "      <td>1</td>\n",
       "      <td>0</td>\n",
       "      <td>0</td>\n",
       "      <td>1</td>\n",
       "      <td>Meal Plan 1</td>\n",
       "      <td>0</td>\n",
       "      <td>Room_Type 7</td>\n",
       "      <td>0</td>\n",
       "      <td>2018</td>\n",
       "      <td>6</td>\n",
       "      <td>7</td>\n",
       "      <td>Complementary</td>\n",
       "      <td>1</td>\n",
       "      <td>4</td>\n",
       "      <td>17</td>\n",
       "      <td>0.0</td>\n",
       "      <td>1</td>\n",
       "      <td>Not_Canceled</td>\n",
       "    </tr>\n",
       "    <tr>\n",
       "      <th>36080</th>\n",
       "      <td>1</td>\n",
       "      <td>0</td>\n",
       "      <td>1</td>\n",
       "      <td>1</td>\n",
       "      <td>Meal Plan 1</td>\n",
       "      <td>0</td>\n",
       "      <td>Room_Type 7</td>\n",
       "      <td>0</td>\n",
       "      <td>2018</td>\n",
       "      <td>3</td>\n",
       "      <td>21</td>\n",
       "      <td>Complementary</td>\n",
       "      <td>1</td>\n",
       "      <td>3</td>\n",
       "      <td>15</td>\n",
       "      <td>0.0</td>\n",
       "      <td>1</td>\n",
       "      <td>Not_Canceled</td>\n",
       "    </tr>\n",
       "    <tr>\n",
       "      <th>36114</th>\n",
       "      <td>1</td>\n",
       "      <td>0</td>\n",
       "      <td>0</td>\n",
       "      <td>1</td>\n",
       "      <td>Meal Plan 1</td>\n",
       "      <td>0</td>\n",
       "      <td>Room_Type 1</td>\n",
       "      <td>1</td>\n",
       "      <td>2018</td>\n",
       "      <td>3</td>\n",
       "      <td>2</td>\n",
       "      <td>Online</td>\n",
       "      <td>0</td>\n",
       "      <td>0</td>\n",
       "      <td>0</td>\n",
       "      <td>0.0</td>\n",
       "      <td>0</td>\n",
       "      <td>Not_Canceled</td>\n",
       "    </tr>\n",
       "    <tr>\n",
       "      <th>36217</th>\n",
       "      <td>2</td>\n",
       "      <td>0</td>\n",
       "      <td>2</td>\n",
       "      <td>1</td>\n",
       "      <td>Meal Plan 1</td>\n",
       "      <td>0</td>\n",
       "      <td>Room_Type 2</td>\n",
       "      <td>3</td>\n",
       "      <td>2017</td>\n",
       "      <td>8</td>\n",
       "      <td>9</td>\n",
       "      <td>Online</td>\n",
       "      <td>0</td>\n",
       "      <td>0</td>\n",
       "      <td>0</td>\n",
       "      <td>0.0</td>\n",
       "      <td>2</td>\n",
       "      <td>Not_Canceled</td>\n",
       "    </tr>\n",
       "    <tr>\n",
       "      <th>36250</th>\n",
       "      <td>1</td>\n",
       "      <td>0</td>\n",
       "      <td>0</td>\n",
       "      <td>2</td>\n",
       "      <td>Meal Plan 2</td>\n",
       "      <td>0</td>\n",
       "      <td>Room_Type 1</td>\n",
       "      <td>6</td>\n",
       "      <td>2017</td>\n",
       "      <td>12</td>\n",
       "      <td>10</td>\n",
       "      <td>Online</td>\n",
       "      <td>0</td>\n",
       "      <td>0</td>\n",
       "      <td>0</td>\n",
       "      <td>0.0</td>\n",
       "      <td>0</td>\n",
       "      <td>Not_Canceled</td>\n",
       "    </tr>\n",
       "  </tbody>\n",
       "</table>\n",
       "<p>545 rows × 18 columns</p>\n",
       "</div>"
      ],
      "text/plain": [
       "       no_of_adults  no_of_children  no_of_weekend_nights  no_of_week_nights  \\\n",
       "63                1               0                     0                  1   \n",
       "145               1               0                     0                  2   \n",
       "209               1               0                     0                  0   \n",
       "266               1               0                     0                  2   \n",
       "267               1               0                     2                  1   \n",
       "...             ...             ...                   ...                ...   \n",
       "35983             1               0                     0                  1   \n",
       "36080             1               0                     1                  1   \n",
       "36114             1               0                     0                  1   \n",
       "36217             2               0                     2                  1   \n",
       "36250             1               0                     0                  2   \n",
       "\n",
       "      type_of_meal_plan  required_car_parking_space room_type_reserved  \\\n",
       "63          Meal Plan 1                           0        Room_Type 1   \n",
       "145         Meal Plan 1                           0        Room_Type 1   \n",
       "209         Meal Plan 1                           0        Room_Type 1   \n",
       "266         Meal Plan 1                           0        Room_Type 1   \n",
       "267         Meal Plan 1                           0        Room_Type 1   \n",
       "...                 ...                         ...                ...   \n",
       "35983       Meal Plan 1                           0        Room_Type 7   \n",
       "36080       Meal Plan 1                           0        Room_Type 7   \n",
       "36114       Meal Plan 1                           0        Room_Type 1   \n",
       "36217       Meal Plan 1                           0        Room_Type 2   \n",
       "36250       Meal Plan 2                           0        Room_Type 1   \n",
       "\n",
       "       lead_time  arrival_year  arrival_month  arrival_date  \\\n",
       "63             2          2017              9            10   \n",
       "145           13          2018              6             1   \n",
       "209            4          2018              2            27   \n",
       "266            1          2017              8            12   \n",
       "267            4          2017              8            23   \n",
       "...          ...           ...            ...           ...   \n",
       "35983          0          2018              6             7   \n",
       "36080          0          2018              3            21   \n",
       "36114          1          2018              3             2   \n",
       "36217          3          2017              8             9   \n",
       "36250          6          2017             12            10   \n",
       "\n",
       "      market_segment_type  repeated_guest  no_of_previous_cancellations  \\\n",
       "63          Complementary               0                             0   \n",
       "145         Complementary               1                             3   \n",
       "209         Complementary               0                             0   \n",
       "266         Complementary               1                             0   \n",
       "267         Complementary               0                             0   \n",
       "...                   ...             ...                           ...   \n",
       "35983       Complementary               1                             4   \n",
       "36080       Complementary               1                             3   \n",
       "36114              Online               0                             0   \n",
       "36217              Online               0                             0   \n",
       "36250              Online               0                             0   \n",
       "\n",
       "       no_of_previous_bookings_not_canceled  avg_price_per_room  \\\n",
       "63                                        0                 0.0   \n",
       "145                                       5                 0.0   \n",
       "209                                       0                 0.0   \n",
       "266                                       1                 0.0   \n",
       "267                                       0                 0.0   \n",
       "...                                     ...                 ...   \n",
       "35983                                    17                 0.0   \n",
       "36080                                    15                 0.0   \n",
       "36114                                     0                 0.0   \n",
       "36217                                     0                 0.0   \n",
       "36250                                     0                 0.0   \n",
       "\n",
       "       no_of_special_requests booking_status  \n",
       "63                          1   Not_Canceled  \n",
       "145                         1   Not_Canceled  \n",
       "209                         1   Not_Canceled  \n",
       "266                         1   Not_Canceled  \n",
       "267                         1   Not_Canceled  \n",
       "...                       ...            ...  \n",
       "35983                       1   Not_Canceled  \n",
       "36080                       1   Not_Canceled  \n",
       "36114                       0   Not_Canceled  \n",
       "36217                       2   Not_Canceled  \n",
       "36250                       0   Not_Canceled  \n",
       "\n",
       "[545 rows x 18 columns]"
      ]
     },
     "execution_count": 11,
     "metadata": {},
     "output_type": "execute_result"
    }
   ],
   "source": [
    "# Checking the rows where the avg_price_per_room is 0\n",
    "data[data[\"avg_price_per_room\"] == 0]"
   ]
  },
  {
   "cell_type": "markdown",
   "id": "UTjEC8ZtB5gq",
   "metadata": {
    "id": "UTjEC8ZtB5gq"
   },
   "source": [
    "- In the market segment column, it looks like **many values are complementary**. Let's check the market segment where the room prices are equal to 0."
   ]
  },
  {
   "cell_type": "code",
   "execution_count": 12,
   "id": "bT_DTrwGB5gq",
   "metadata": {
    "id": "bT_DTrwGB5gq",
    "outputId": "876750ee-687e-42e7-fef9-416b26846166"
   },
   "outputs": [
    {
     "data": {
      "text/plain": [
       "Complementary    354\n",
       "Online           191\n",
       "Name: market_segment_type, dtype: int64"
      ]
     },
     "execution_count": 12,
     "metadata": {},
     "output_type": "execute_result"
    }
   ],
   "source": [
    "data.loc[data[\"avg_price_per_room\"] == 0, \"market_segment_type\"].value_counts()"
   ]
  },
  {
   "cell_type": "markdown",
   "id": "MyQSfp3GB5gq",
   "metadata": {
    "id": "MyQSfp3GB5gq"
   },
   "source": [
    "**Observations:**\n",
    "\n",
    "* It makes sense that most values with room prices equal to 0 are the rooms given as a complimentary service by the hotel.\n",
    "* The rooms booked online might be a part of some promotional campaign done by the hotel. We will not treat these rows as we don't have the data to test this claim."
   ]
  },
  {
   "cell_type": "markdown",
   "id": "G7JHq3AYB5gq",
   "metadata": {
    "id": "G7JHq3AYB5gq"
   },
   "source": [
    "### **Checking the distribution and outliers for numerical columns in the data**"
   ]
  },
  {
   "cell_type": "code",
   "execution_count": 13,
   "id": "-tb6VI7nB5gq",
   "metadata": {
    "id": "-tb6VI7nB5gq",
    "outputId": "e054910f-4318-488f-e7ab-db3d4b698888",
    "scrolled": false
   },
   "outputs": [
    {
     "name": "stdout",
     "output_type": "stream",
     "text": [
      "lead_time\n",
      "Skew : 1.29\n"
     ]
    },
    {
     "data": {
      "image/png": "[encoded data removed]",
      "text/plain": [
       "<Figure size 1080x288 with 2 Axes>"
      ]
     },
     "metadata": {
      "needs_background": "light"
     },
     "output_type": "display_data"
    },
    {
     "name": "stdout",
     "output_type": "stream",
     "text": [
      "no_of_previous_cancellations\n",
      "Skew : 25.2\n"
     ]
    },
    {
     "data": {
      "image/png": "[encoded data removed]",
      "text/plain": [
       "<Figure size 1080x288 with 2 Axes>"
      ]
     },
     "metadata": {
      "needs_background": "light"
     },
     "output_type": "display_data"
    },
    {
     "name": "stdout",
     "output_type": "stream",
     "text": [
      "no_of_previous_bookings_not_canceled\n",
      "Skew : 19.25\n"
     ]
    },
    {
     "data": {
      "image/png": "[encoded data removed]",
      "text/plain": [
       "<Figure size 1080x288 with 2 Axes>"
      ]
     },
     "metadata": {
      "needs_background": "light"
     },
     "output_type": "display_data"
    },
    {
     "name": "stdout",
     "output_type": "stream",
     "text": [
      "avg_price_per_room\n",
      "Skew : 0.67\n"
     ]
    },
    {
     "data": {
      "image/png": "[encoded data removed]",
      "text/plain": [
       "<Figure size 1080x288 with 2 Axes>"
      ]
     },
     "metadata": {
      "needs_background": "light"
     },
     "output_type": "display_data"
    }
   ],
   "source": [
    "for col in ['lead_time', 'no_of_previous_cancellations', 'no_of_previous_bookings_not_canceled', 'avg_price_per_room']:\n",
    "    print(col)\n",
    "    \n",
    "    print('Skew :', round(data[col].skew(), 2))\n",
    "    \n",
    "    plt.figure(figsize = (15, 4))\n",
    "    \n",
    "    plt.subplot(1,2,1)\n",
    "    \n",
    "    data[col].hist(bins = 10, grid = False)\n",
    "    \n",
    "    plt.ylabel('count')\n",
    "    \n",
    "    plt.subplot(1, 2, 2)\n",
    "    \n",
    "    sns.boxplot(x = data[col])\n",
    "    \n",
    "    plt.show()"
   ]
  },
  {
   "cell_type": "markdown",
   "id": "MV1xLBI2B5gr",
   "metadata": {
    "id": "MV1xLBI2B5gr"
   },
   "source": [
    "- The distribution of **lead time is right-skewed** implies the majority of customer make bookings close to the arrival date. Many customers have made the booking on the same day of arrival as well. There are many outliers, **some customers made booking more than 400 days in advance**. \n",
    "- **Very few customers have more than one cancellation**. Some customers canceled more than 12 times.\n",
    "- **Very few customers have more than 1 booking not canceled previously**. \n",
    "- **The distribution of average price per room is skewed to right**. The boxplot shows that there are outliers on both sides. The median price of a room is around ~100 euros. There is 1 observation where the average price of the room is more than 500 euros. This observation is quite far away from the rest of the values. We can treat this by clipping the value to the upper whisker (Q3 + 1.5 * IQR)."
   ]
  },
  {
   "cell_type": "code",
   "execution_count": 14,
   "id": "SqrcelDJB5gr",
   "metadata": {
    "id": "SqrcelDJB5gr",
    "outputId": "57f685cb-d53c-4748-aa08-ed7846c71953"
   },
   "outputs": [
    {
     "data": {
      "text/plain": [
       "179.55"
      ]
     },
     "execution_count": 14,
     "metadata": {},
     "output_type": "execute_result"
    }
   ],
   "source": [
    "# Calculating the 25th quantile\n",
    "Q1 = data[\"avg_price_per_room\"].quantile(0.25)\n",
    "\n",
    "# Calculating the 75th quantile\n",
    "Q3 = data[\"avg_price_per_room\"].quantile(0.75)\n",
    "\n",
    "# Calculating IQR\n",
    "IQR = Q3 - Q1\n",
    "\n",
    "# Calculating value of upper whisker\n",
    "Upper_Whisker = Q3 + 1.5 * IQR\n",
    "Upper_Whisker"
   ]
  },
  {
   "cell_type": "code",
   "execution_count": 15,
   "id": "ydsOAN5lB5gr",
   "metadata": {
    "id": "ydsOAN5lB5gr"
   },
   "outputs": [],
   "source": [
    "# Assigning the value of upper whisker to outliers\n",
    "data.loc[data[\"avg_price_per_room\"] >= 500, \"avg_price_per_room\"] = Upper_Whisker"
   ]
  },
  {
   "cell_type": "markdown",
   "id": "r37QH4r0B5gr",
   "metadata": {
    "id": "r37QH4r0B5gr"
   },
   "source": [
    "**Now, let's check the percentage of each category for categorical variables.**"
   ]
  },
  {
   "cell_type": "markdown",
   "id": "3CgPYw46B5gr",
   "metadata": {
    "id": "3CgPYw46B5gr"
   },
   "source": [
    "### **Question 2:**"
   ]
  },
  {
   "cell_type": "markdown",
   "id": "Az4VuDZ1B5gr",
   "metadata": {
    "id": "Az4VuDZ1B5gr"
   },
   "source": [
    "- **Write the code to check the percentage of each category for columns mentioned below (cat_cols) (2 Marks)**\n",
    "- **Write your observations (2 Marks)**"
   ]
  },
  {
   "cell_type": "code",
   "execution_count": 16,
   "id": "0PTfFp1YB5gr",
   "metadata": {
    "id": "0PTfFp1YB5gr",
    "scrolled": false
   },
   "outputs": [
    {
     "data": {
      "image/png": "[encoded data removed]",
      "text/plain": [
       "<Figure size 576x288 with 1 Axes>"
      ]
     },
     "metadata": {
      "needs_background": "light"
     },
     "output_type": "display_data"
    },
    {
     "data": {
      "image/png": "[encoded data removed]",
      "text/plain": [
       "<Figure size 576x288 with 1 Axes>"
      ]
     },
     "metadata": {
      "needs_background": "light"
     },
     "output_type": "display_data"
    },
    {
     "data": {
      "image/png": "[encoded data removed]",
      "text/plain": [
       "<Figure size 576x288 with 1 Axes>"
      ]
     },
     "metadata": {
      "needs_background": "light"
     },
     "output_type": "display_data"
    },
    {
     "data": {
      "image/png": "[encoded data removed]",
      "text/plain": [
       "<Figure size 576x288 with 1 Axes>"
      ]
     },
     "metadata": {
      "needs_background": "light"
     },
     "output_type": "display_data"
    },
    {
     "data": {
      "image/png": "[encoded data removed]",
      "text/plain": [
       "<Figure size 576x288 with 1 Axes>"
      ]
     },
     "metadata": {
      "needs_background": "light"
     },
     "output_type": "display_data"
    },
    {
     "data": {
      "image/png": "[encoded data removed]",
      "text/plain": [
       "<Figure size 576x288 with 1 Axes>"
      ]
     },
     "metadata": {
      "needs_background": "light"
     },
     "output_type": "display_data"
    },
    {
     "data": {
      "image/png": "[encoded data removed]",
      "text/plain": [
       "<Figure size 576x288 with 1 Axes>"
      ]
     },
     "metadata": {
      "needs_background": "light"
     },
     "output_type": "display_data"
    },
    {
     "data": {
      "image/png": "[encoded data removed]",
      "text/plain": [
       "<Figure size 576x288 with 1 Axes>"
      ]
     },
     "metadata": {
      "needs_background": "light"
     },
     "output_type": "display_data"
    },
    {
     "data": {
      "image/png": "[encoded data removed]",
      "text/plain": [
       "<Figure size 576x288 with 1 Axes>"
      ]
     },
     "metadata": {
      "needs_background": "light"
     },
     "output_type": "display_data"
    },
    {
     "data": {
      "image/png": "[encoded data removed]",
      "text/plain": [
       "<Figure size 576x288 with 1 Axes>"
      ]
     },
     "metadata": {
      "needs_background": "light"
     },
     "output_type": "display_data"
    }
   ],
   "source": [
    "cat_cols = ['no_of_adults', 'no_of_children', 'no_of_week_nights', 'no_of_weekend_nights', 'required_car_parking_space', \n",
    "        'type_of_meal_plan', 'room_type_reserved', 'arrival_month', 'market_segment_type', 'no_of_special_requests', \n",
    "        'booking_status']\n",
    "\n",
    "# Write your code here\n",
    "for i in cat_cols:\n",
    "    if i != 'booking_status':\n",
    "        (pd.crosstab(data[i], data['booking_status'], normalize = 'index')*100).plot(kind = 'bar', figsize = (8, 4), stacked = True)\n",
    "        plt.ylabel('Percentage %')"
   ]
  },
  {
   "cell_type": "markdown",
   "id": "tkEGutHpB5gr",
   "metadata": {
    "id": "tkEGutHpB5gr"
   },
   "source": [
    "**Observations:**\n",
    "- Customers with number of children=10 are more likely to not cancel the booking. \n",
    "- People who stayed or booked the hotel for 13 and 16 week nights are more likely to cancel the booking.\n",
    "- People who stayed or booked the hotel for 7 weekend nights are more likely to cancel the booking. \n",
    "- People who don't require the parking space have around 35 % chance of canceling the booking than people who require parking lot. \n",
    "- People who arrived for 7 months are likely (around 45 %) to cancel the booking which is highly compared to people who arrived for just one month. \n",
    "- People who book the room online are more likely to cancel the booking. While people who were given a room as a  complementary tend to not cancel the booking. \n",
    "- Customers who have made more than 3 special requests tend to not cancel the booking. While people who do not make any special requests have around 43 % to cancel the booking. "
   ]
  },
  {
   "cell_type": "markdown",
   "id": "Z8tmRu52B5gs",
   "metadata": {
    "id": "Z8tmRu52B5gs"
   },
   "source": [
    "### **Replacing values 9 and 10 for the number of children with 3 and encoding the target variable**"
   ]
  },
  {
   "cell_type": "code",
   "execution_count": 17,
   "id": "gZhA-gBRB5gs",
   "metadata": {
    "id": "gZhA-gBRB5gs"
   },
   "outputs": [],
   "source": [
    "# Replacing values 9 and 10 with 3 for the column no_of_children\n",
    "data[\"no_of_children\"] = data[\"no_of_children\"].replace([9, 10], 3)"
   ]
  },
  {
   "cell_type": "code",
   "execution_count": 18,
   "id": "wIKkM5AZB5gs",
   "metadata": {
    "id": "wIKkM5AZB5gs"
   },
   "outputs": [],
   "source": [
    "data[\"booking_status\"] = data[\"booking_status\"].apply(lambda x: 1 if x == \"Canceled\" else 0)"
   ]
  },
  {
   "cell_type": "markdown",
   "id": "WM3q1_vgB5gs",
   "metadata": {
    "id": "WM3q1_vgB5gs"
   },
   "source": [
    "**We are done with univariate analysis and data preprocessing. Let's explore the data a bit more with bivariate analysis.**\n",
    "\n",
    "Let's check the relationship of market segment type with the average price per room."
   ]
  },
  {
   "cell_type": "code",
   "execution_count": 19,
   "id": "HmQYlPNjB5gs",
   "metadata": {
    "id": "HmQYlPNjB5gs",
    "outputId": "acb69ce9-3e77-4a77-ccc0-fa7229077eae"
   },
   "outputs": [
    {
     "data": {
      "image/png": "[encoded data removed]",
      "text/plain": [
       "<Figure size 720x432 with 1 Axes>"
      ]
     },
     "metadata": {
      "needs_background": "light"
     },
     "output_type": "display_data"
    }
   ],
   "source": [
    "plt.figure(figsize = (10, 6))\n",
    "\n",
    "sns.boxplot(data = data, x = \"market_segment_type\", y = \"avg_price_per_room\")\n",
    "\n",
    "plt.show()"
   ]
  },
  {
   "cell_type": "markdown",
   "id": "bIfH5ms8B5gs",
   "metadata": {
    "id": "bIfH5ms8B5gs"
   },
   "source": [
    "**Observations:**\n",
    "\n",
    "* **Rooms booked online have the highest variations in prices.**\n",
    "* The distribution for offline and corporate room prices are almost similar except for some outliers.\n",
    "* Complementary market segment gets the rooms at very low prices, which makes sense."
   ]
  },
  {
   "cell_type": "markdown",
   "id": "HRN57xD6B5gs",
   "metadata": {
    "id": "HRN57xD6B5gs"
   },
   "source": [
    "**Let's see how booking status varies across different market segments. Also, how lead time impacts booking status.**"
   ]
  },
  {
   "cell_type": "code",
   "execution_count": 20,
   "id": "Mf6BH8DaB5gs",
   "metadata": {
    "id": "Mf6BH8DaB5gs",
    "outputId": "089a80f7-5c3e-4588-c373-055ea4802f5d"
   },
   "outputs": [
    {
     "data": {
      "image/png": "[encoded data removed]",
      "text/plain": [
       "<Figure size 720x432 with 1 Axes>"
      ]
     },
     "metadata": {
      "needs_background": "light"
     },
     "output_type": "display_data"
    }
   ],
   "source": [
    "plt.figure(figsize = (10, 6))\n",
    "\n",
    "sns.countplot(x = 'market_segment_type', hue = 'booking_status', data = data)\n",
    "\n",
    "plt.show()"
   ]
  },
  {
   "cell_type": "markdown",
   "id": "PajvYk5mB5gs",
   "metadata": {
    "id": "PajvYk5mB5gs"
   },
   "source": [
    "**Observations:**\n",
    "\n",
    "* **Online bookings have the highest number of cancellations.**\n",
    "* Bookings made offline are less prone to cancellations.\n",
    "* Corporate and complementary segment also show very low number of cancellations."
   ]
  },
  {
   "cell_type": "code",
   "execution_count": 21,
   "id": "IFzqw7xuB5gt",
   "metadata": {
    "id": "IFzqw7xuB5gt",
    "outputId": "256317e2-f1d5-4f9a-f1aa-f694afcf6a12"
   },
   "outputs": [
    {
     "data": {
      "image/png": "[encoded data removed]",
      "text/plain": [
       "<Figure size 720x432 with 1 Axes>"
      ]
     },
     "metadata": {
      "needs_background": "light"
     },
     "output_type": "display_data"
    }
   ],
   "source": [
    "plt.figure(figsize = (10, 6))\n",
    "\n",
    "sns.boxplot(data = data, x = \"booking_status\", y = \"lead_time\")\n",
    "\n",
    "plt.show()"
   ]
  },
  {
   "cell_type": "markdown",
   "id": "D1q1TarrB5gt",
   "metadata": {
    "id": "D1q1TarrB5gt"
   },
   "source": [
    "**Observations:**\n",
    "\n",
    "* There's a big difference in the median value of lead time for bookings that were canceled and bookings that were not canceled. \n",
    "- **The higher the lead time, the higher are the chances of a booking being canceled.**"
   ]
  },
  {
   "cell_type": "markdown",
   "id": "YcpKaPfPB5gt",
   "metadata": {
    "id": "YcpKaPfPB5gt"
   },
   "source": [
    "**Now, let's check how the arrival month impacts the booking status.**"
   ]
  },
  {
   "cell_type": "code",
   "execution_count": 22,
   "id": "LS3FXo4PB5gt",
   "metadata": {
    "id": "LS3FXo4PB5gt",
    "outputId": "787b47e4-4be7-4716-cd07-876781da88dd"
   },
   "outputs": [
    {
     "data": {
      "image/png": "[encoded data removed]",
      "text/plain": [
       "<Figure size 720x432 with 1 Axes>"
      ]
     },
     "metadata": {
      "needs_background": "light"
     },
     "output_type": "display_data"
    }
   ],
   "source": [
    "plt.figure(figsize = (10, 6))\n",
    "\n",
    "sns.countplot(x = 'arrival_month', hue = 'booking_status', data = data)\n",
    "\n",
    "plt.show()"
   ]
  },
  {
   "cell_type": "markdown",
   "id": "ExaW5DftB5gt",
   "metadata": {
    "id": "ExaW5DftB5gt"
   },
   "source": [
    "**Observations:**\n",
    "\n",
    "- We observed earlier that the month of October has the highest number of bookings but the above plot shows that **October has the highest number of cancellations** as well.\n",
    "- Bookings made for **December and January are least prone to cancellations**."
   ]
  },
  {
   "cell_type": "markdown",
   "id": "y_3tJCx1B5gt",
   "metadata": {
    "id": "y_3tJCx1B5gt"
   },
   "source": [
    "**Repeating guests are the guests who stay in the hotel often and are important to brand equity. Let's see what percentage of repeating guests cancel?**"
   ]
  },
  {
   "cell_type": "code",
   "execution_count": 23,
   "id": "qf40d5loB5gt",
   "metadata": {
    "id": "qf40d5loB5gt",
    "outputId": "d31ff368-cd67-4fe4-895f-9bd9920945cf"
   },
   "outputs": [
    {
     "data": {
      "image/png": "[encoded data removed]",
      "text/plain": [
       "<Figure size 720x432 with 1 Axes>"
      ]
     },
     "metadata": {
      "needs_background": "light"
     },
     "output_type": "display_data"
    }
   ],
   "source": [
    "plt.figure(figsize = (10, 6))\n",
    "\n",
    "sns.countplot(x = 'repeated_guest', hue = 'booking_status', data = data)\n",
    "\n",
    "plt.show()"
   ]
  },
  {
   "cell_type": "markdown",
   "id": "OAUi5ycjB5gt",
   "metadata": {
    "id": "OAUi5ycjB5gt"
   },
   "source": [
    "**Observations:**\n",
    "\n",
    "* There are **very few repeat customers but the cancellation among them is very less**. \n",
    "* This is a good indication as repeat customers are important for the hospitality industry as they can help in spreading the word of mouth."
   ]
  },
  {
   "cell_type": "markdown",
   "id": "arranged-courtesy",
   "metadata": {
    "id": "arranged-courtesy"
   },
   "source": [
    "**We have explored different combinations of variables. Now, let's see the pairwise correlations between all the variables.**"
   ]
  },
  {
   "cell_type": "code",
   "execution_count": 24,
   "id": "official-wyoming",
   "metadata": {
    "id": "official-wyoming",
    "outputId": "81a9c889-9e29-4178-924c-ff99a2b6acab"
   },
   "outputs": [
    {
     "data": {
      "image/png": "[encoded data removed]",
      "text/plain": [
       "<Figure size 864x504 with 2 Axes>"
      ]
     },
     "metadata": {
      "needs_background": "light"
     },
     "output_type": "display_data"
    }
   ],
   "source": [
    "plt.figure(figsize = (12, 7))\n",
    "\n",
    "sns.heatmap(data.corr(), annot = True, fmt = \".2f\")\n",
    "\n",
    "plt.show()"
   ]
  },
  {
   "cell_type": "markdown",
   "id": "brave-hamilton",
   "metadata": {
    "id": "brave-hamilton"
   },
   "source": [
    "**Observations:**\n",
    "\n",
    "* There's a **weak positive correlation between the number of customers (adults and children) and the average price per room**. This makes sense as more the number of customers more the price of the rooms.\n",
    "* There's a **weak negative correlation between average room price and repeated guests**. The hotel might be giving some loyalty benefits to the customers.\n",
    "* **Repeated guests have a positive correlation with the number of previous bookings canceled and previous bookings not canceled.** This implies that repeated customers are also likely to cancel their bookings.  \n",
    "* There's a weak positive correlation between lead time and the number of weeknights a customer is planning to stay in the hotel.\n",
    "* There's a **positive correlation between booking status and lead time**, indicating higher the lead time higher are the chances of cancellation.\n",
    "* There's a weak negative correlation between the number of special requests from the customer and the booking status, indicating **if a customer has made some special requests the chances of cancellation might decrease**."
   ]
  },
  {
   "cell_type": "markdown",
   "id": "1gJZx-rpB5gu",
   "metadata": {
    "id": "1gJZx-rpB5gu"
   },
   "source": [
    "**Now that we have explored our data, let's prepare it for modeling.**"
   ]
  },
  {
   "cell_type": "markdown",
   "id": "eUYNF0lFB5gu",
   "metadata": {
    "id": "eUYNF0lFB5gu"
   },
   "source": [
    "## **Preparing the data for modeling**"
   ]
  },
  {
   "cell_type": "markdown",
   "id": "Zj7q8BmEB5gu",
   "metadata": {
    "id": "Zj7q8BmEB5gu"
   },
   "source": [
    "- Models cannot take non-numeric inputs. So, we will first create dummy variables for all the categorical variables.\n",
    "- We will then split the data into train and test sets."
   ]
  },
  {
   "cell_type": "markdown",
   "id": "wQyT2bnBB5gu",
   "metadata": {
    "id": "wQyT2bnBB5gu"
   },
   "source": [
    "### **Question 3:**\n",
    "\n",
    "- **Drop the target variable from the original data and store it in a separate DataFrame `X` (1 Mark)**\n",
    "- **Store the target variable in a separate series `Y` (1 Mark)**"
   ]
  },
  {
   "cell_type": "code",
   "execution_count": 25,
   "id": "DHXcm8V5B5gu",
   "metadata": {
    "id": "DHXcm8V5B5gu"
   },
   "outputs": [],
   "source": [
    "# Remove the blanks and complete the below code\n",
    "X = data.drop(columns = ['booking_status'])\n",
    "Y = data.booking_status"
   ]
  },
  {
   "cell_type": "code",
   "execution_count": 26,
   "id": "TdkQZZe7B5gu",
   "metadata": {
    "id": "TdkQZZe7B5gu"
   },
   "outputs": [],
   "source": [
    "# Creating dummy variables, drop_first = True is used to avoid redundant variables\n",
    "X = pd.get_dummies(X, drop_first = True)"
   ]
  },
  {
   "cell_type": "code",
   "execution_count": 27,
   "id": "FNfS-6IKB5gu",
   "metadata": {
    "id": "FNfS-6IKB5gu"
   },
   "outputs": [],
   "source": [
    "# Splitting the data into train and test sets\n",
    "X_train, X_test, y_train, y_test = train_test_split(X, Y, test_size = 0.30, random_state = 1)"
   ]
  },
  {
   "cell_type": "markdown",
   "id": "tyTglpNBB5gu",
   "metadata": {
    "id": "tyTglpNBB5gu"
   },
   "source": [
    "## **Building Classification Models**"
   ]
  },
  {
   "cell_type": "markdown",
   "id": "Ik4t4tCJB5gu",
   "metadata": {
    "id": "Ik4t4tCJB5gu"
   },
   "source": [
    "**Before training the model, let's choose the appropriate model evaluation criterion as per the problem at hand.**\n",
    "\n",
    "### **Model evaluation criterion**\n",
    "\n",
    "**Model can make wrong predictions as:**\n",
    "\n",
    "1. Predicting a customer will not cancel their booking but in reality, the customer cancels their booking.\n",
    "2. Predicting a customer will cancel their booking but in reality, the customer does not cancel their booking. \n",
    "\n",
    "**Which case is more important?** \n",
    "* Both the cases are important as:\n",
    "\n",
    "* If we predict that a booking will not be canceled and the booking gets canceled, then the hotel will lose resources and will have to bear additional costs of unsold rooms. The hotel might also have to bear an additional cost of advertising the room again on different distribution channels.\n",
    "\n",
    "* If we predict that a booking will get canceled and the booking doesn't get canceled, then the hotel might not be able to provide satisfactory services to the customer by assuming that this booking will be canceled. This might damage the brand equity.\n",
    "\n",
    "\n",
    "**How to reduce the losses?**\n",
    "\n",
    "* Hotel would want `F1 Score` to be maximized, greater the F1 score, higher are the chances of minimizing False Negatives and False Positives. "
   ]
  },
  {
   "cell_type": "markdown",
   "id": "ruled-appointment",
   "metadata": {
    "id": "ruled-appointment"
   },
   "source": [
    "**Also, let's create a function to calculate and print the classification report and confusion matrix so that we don't have to rewrite the same code repeatedly for each model.**"
   ]
  },
  {
   "cell_type": "code",
   "execution_count": 28,
   "id": "GUu1RwEIB5gv",
   "metadata": {
    "id": "GUu1RwEIB5gv"
   },
   "outputs": [],
   "source": [
    "# Function to print classification report and get confusion matrix in a proper format\n",
    "\n",
    "def metrics_score(actual, predicted):\n",
    "    print(classification_report(actual, predicted))\n",
    "    \n",
    "    cm = confusion_matrix(actual, predicted)\n",
    "    \n",
    "    plt.figure(figsize = (8, 5))\n",
    "    \n",
    "    sns.heatmap(cm, annot = True,  fmt = '.2f', xticklabels = ['Not Canceled', 'Canceled'], yticklabels = ['Not Canceled', 'Canceled'])\n",
    "    \n",
    "    plt.ylabel('Actual')\n",
    "    \n",
    "    plt.xlabel('Predicted')\n",
    "    \n",
    "    plt.show()"
   ]
  },
  {
   "cell_type": "markdown",
   "id": "mysterious-sight",
   "metadata": {
    "id": "mysterious-sight"
   },
   "source": [
    "### **Logistic Regression**"
   ]
  },
  {
   "cell_type": "markdown",
   "id": "6H725rCTB5gv",
   "metadata": {
    "id": "6H725rCTB5gv"
   },
   "source": [
    "### **Question 4: Fit the logistic regression model on the train dataset using random_state = 1 (2 Marks)**"
   ]
  },
  {
   "cell_type": "code",
   "execution_count": 29,
   "id": "plastic-logistics",
   "metadata": {
    "id": "plastic-logistics"
   },
   "outputs": [
    {
     "data": {
      "text/plain": [
       "LogisticRegression()"
      ]
     },
     "execution_count": 29,
     "metadata": {},
     "output_type": "execute_result"
    }
   ],
   "source": [
    "# Define Logistic Regression model \n",
    "log_reg= LogisticRegression()\n",
    "\n",
    "# Fit the model\n",
    "# Write you code here\n",
    "log_reg.fit(X_train,y_train)"
   ]
  },
  {
   "cell_type": "markdown",
   "id": "megU5A01B5gv",
   "metadata": {
    "id": "megU5A01B5gv"
   },
   "source": [
    "**Let's check the coefficient of each dependent variable in the data**."
   ]
  },
  {
   "cell_type": "markdown",
   "id": "qYM2U1gEB5gv",
   "metadata": {
    "id": "qYM2U1gEB5gv"
   },
   "source": [
    "### **Question 5: Write your observations on the below coefficients obtained from the logistic regression model (3 Marks)**"
   ]
  },
  {
   "cell_type": "markdown",
   "id": "b2f0c86c",
   "metadata": {},
   "source": [
    "**Note:** There might be slight variation in the coefficients depending on the library version you are using. There will be no deducting in marks for that as long as your observations are aligned with the output. In case, the coefficients vary too much, please make sure your code is correct."
   ]
  },
  {
   "cell_type": "code",
   "execution_count": 30,
   "id": "coordinate-superintendent",
   "metadata": {
    "id": "coordinate-superintendent",
    "outputId": "bd508087-3ace-4664-da2b-90ed282fb66d"
   },
   "outputs": [
    {
     "data": {
      "text/plain": [
       "market_segment_type_Online              0.630553\n",
       "type_of_meal_plan_Not Selected          0.324835\n",
       "no_of_weekend_nights                    0.181272\n",
       "avg_price_per_room                      0.019709\n",
       "lead_time                               0.015684\n",
       "no_of_adults                            0.011743\n",
       "no_of_week_nights                       0.002371\n",
       "arrival_date                            0.001555\n",
       "type_of_meal_plan_Meal Plan 3           0.000405\n",
       "room_type_reserved_Room_Type 3          0.000344\n",
       "arrival_year                           -0.001719\n",
       "room_type_reserved_Room_Type 2         -0.004331\n",
       "market_segment_type_Complementary      -0.008872\n",
       "room_type_reserved_Room_Type 5         -0.011282\n",
       "room_type_reserved_Room_Type 7         -0.018016\n",
       "no_of_previous_cancellations           -0.024833\n",
       "market_segment_type_Corporate          -0.031590\n",
       "room_type_reserved_Room_Type 4         -0.033145\n",
       "repeated_guest                         -0.043843\n",
       "room_type_reserved_Room_Type 6         -0.046122\n",
       "no_of_children                         -0.054342\n",
       "arrival_month                          -0.062770\n",
       "type_of_meal_plan_Meal Plan 2          -0.095152\n",
       "required_car_parking_space             -0.140539\n",
       "no_of_previous_bookings_not_canceled   -0.214246\n",
       "market_segment_type_Offline            -0.604488\n",
       "no_of_special_requests                 -1.563046\n",
       "dtype: float64"
      ]
     },
     "execution_count": 30,
     "metadata": {},
     "output_type": "execute_result"
    }
   ],
   "source": [
    "pd.Series(log_reg.coef_[0], index = X_train.columns).sort_values(ascending = False)"
   ]
  },
  {
   "cell_type": "markdown",
   "id": "BaR7t9XAB5gv",
   "metadata": {
    "id": "BaR7t9XAB5gv"
   },
   "source": [
    "**Observations:**\n",
    "**Features which highly positively affect on the cancellation of the hotel booking  are:**\n",
    "- market_segment_type_Online \n",
    "- type_of_meal_plan_Not Selected \n",
    "- no_of_weekend_nights \n",
    "- avg_price_per_room \n",
    "\n",
    "\n",
    "**Features which highly negatively affect on the cancellation of the hotel booking are:**\n",
    "- required_car_parking_space \n",
    "- no_of_previous_bookings_not_canceled\n",
    "- market_segment_type_Offline \n",
    "- no_of_special_requests "
   ]
  },
  {
   "cell_type": "markdown",
   "id": "5lPCFxqTB5gv",
   "metadata": {
    "id": "5lPCFxqTB5gv"
   },
   "source": [
    "### **Question 6: Write your interpretations of the odds calculated from the logistic regression model coefficients (3 Marks)**"
   ]
  },
  {
   "cell_type": "code",
   "execution_count": 31,
   "id": "cg0Ez4usB5gv",
   "metadata": {
    "id": "cg0Ez4usB5gv",
    "outputId": "67f8d383-a8c7-4a9c-c23f-6be8142af7ef"
   },
   "outputs": [
    {
     "data": {
      "text/html": [
       "<div>\n",
       "<style scoped>\n",
       "    .dataframe tbody tr th:only-of-type {\n",
       "        vertical-align: middle;\n",
       "    }\n",
       "\n",
       "    .dataframe tbody tr th {\n",
       "        vertical-align: top;\n",
       "    }\n",
       "\n",
       "    .dataframe thead th {\n",
       "        text-align: right;\n",
       "    }\n",
       "</style>\n",
       "<table border=\"1\" class=\"dataframe\">\n",
       "  <thead>\n",
       "    <tr style=\"text-align: right;\">\n",
       "      <th></th>\n",
       "      <th>odds</th>\n",
       "    </tr>\n",
       "  </thead>\n",
       "  <tbody>\n",
       "    <tr>\n",
       "      <th>market_segment_type_Online</th>\n",
       "      <td>1.878649</td>\n",
       "    </tr>\n",
       "    <tr>\n",
       "      <th>type_of_meal_plan_Not Selected</th>\n",
       "      <td>1.383803</td>\n",
       "    </tr>\n",
       "    <tr>\n",
       "      <th>no_of_weekend_nights</th>\n",
       "      <td>1.198741</td>\n",
       "    </tr>\n",
       "    <tr>\n",
       "      <th>avg_price_per_room</th>\n",
       "      <td>1.019905</td>\n",
       "    </tr>\n",
       "    <tr>\n",
       "      <th>lead_time</th>\n",
       "      <td>1.015808</td>\n",
       "    </tr>\n",
       "    <tr>\n",
       "      <th>no_of_adults</th>\n",
       "      <td>1.011812</td>\n",
       "    </tr>\n",
       "    <tr>\n",
       "      <th>no_of_week_nights</th>\n",
       "      <td>1.002374</td>\n",
       "    </tr>\n",
       "    <tr>\n",
       "      <th>arrival_date</th>\n",
       "      <td>1.001556</td>\n",
       "    </tr>\n",
       "    <tr>\n",
       "      <th>type_of_meal_plan_Meal Plan 3</th>\n",
       "      <td>1.000405</td>\n",
       "    </tr>\n",
       "    <tr>\n",
       "      <th>room_type_reserved_Room_Type 3</th>\n",
       "      <td>1.000344</td>\n",
       "    </tr>\n",
       "    <tr>\n",
       "      <th>arrival_year</th>\n",
       "      <td>0.998282</td>\n",
       "    </tr>\n",
       "    <tr>\n",
       "      <th>room_type_reserved_Room_Type 2</th>\n",
       "      <td>0.995678</td>\n",
       "    </tr>\n",
       "    <tr>\n",
       "      <th>market_segment_type_Complementary</th>\n",
       "      <td>0.991167</td>\n",
       "    </tr>\n",
       "    <tr>\n",
       "      <th>room_type_reserved_Room_Type 5</th>\n",
       "      <td>0.988781</td>\n",
       "    </tr>\n",
       "    <tr>\n",
       "      <th>room_type_reserved_Room_Type 7</th>\n",
       "      <td>0.982145</td>\n",
       "    </tr>\n",
       "    <tr>\n",
       "      <th>no_of_previous_cancellations</th>\n",
       "      <td>0.975472</td>\n",
       "    </tr>\n",
       "    <tr>\n",
       "      <th>market_segment_type_Corporate</th>\n",
       "      <td>0.968904</td>\n",
       "    </tr>\n",
       "    <tr>\n",
       "      <th>room_type_reserved_Room_Type 4</th>\n",
       "      <td>0.967398</td>\n",
       "    </tr>\n",
       "    <tr>\n",
       "      <th>repeated_guest</th>\n",
       "      <td>0.957104</td>\n",
       "    </tr>\n",
       "    <tr>\n",
       "      <th>room_type_reserved_Room_Type 6</th>\n",
       "      <td>0.954925</td>\n",
       "    </tr>\n",
       "    <tr>\n",
       "      <th>no_of_children</th>\n",
       "      <td>0.947108</td>\n",
       "    </tr>\n",
       "    <tr>\n",
       "      <th>arrival_month</th>\n",
       "      <td>0.939159</td>\n",
       "    </tr>\n",
       "    <tr>\n",
       "      <th>type_of_meal_plan_Meal Plan 2</th>\n",
       "      <td>0.909235</td>\n",
       "    </tr>\n",
       "    <tr>\n",
       "      <th>required_car_parking_space</th>\n",
       "      <td>0.868890</td>\n",
       "    </tr>\n",
       "    <tr>\n",
       "      <th>no_of_previous_bookings_not_canceled</th>\n",
       "      <td>0.807150</td>\n",
       "    </tr>\n",
       "    <tr>\n",
       "      <th>market_segment_type_Offline</th>\n",
       "      <td>0.546354</td>\n",
       "    </tr>\n",
       "    <tr>\n",
       "      <th>no_of_special_requests</th>\n",
       "      <td>0.209497</td>\n",
       "    </tr>\n",
       "  </tbody>\n",
       "</table>\n",
       "</div>"
      ],
      "text/plain": [
       "                                          odds\n",
       "market_segment_type_Online            1.878649\n",
       "type_of_meal_plan_Not Selected        1.383803\n",
       "no_of_weekend_nights                  1.198741\n",
       "avg_price_per_room                    1.019905\n",
       "lead_time                             1.015808\n",
       "no_of_adults                          1.011812\n",
       "no_of_week_nights                     1.002374\n",
       "arrival_date                          1.001556\n",
       "type_of_meal_plan_Meal Plan 3         1.000405\n",
       "room_type_reserved_Room_Type 3        1.000344\n",
       "arrival_year                          0.998282\n",
       "room_type_reserved_Room_Type 2        0.995678\n",
       "market_segment_type_Complementary     0.991167\n",
       "room_type_reserved_Room_Type 5        0.988781\n",
       "room_type_reserved_Room_Type 7        0.982145\n",
       "no_of_previous_cancellations          0.975472\n",
       "market_segment_type_Corporate         0.968904\n",
       "room_type_reserved_Room_Type 4        0.967398\n",
       "repeated_guest                        0.957104\n",
       "room_type_reserved_Room_Type 6        0.954925\n",
       "no_of_children                        0.947108\n",
       "arrival_month                         0.939159\n",
       "type_of_meal_plan_Meal Plan 2         0.909235\n",
       "required_car_parking_space            0.868890\n",
       "no_of_previous_bookings_not_canceled  0.807150\n",
       "market_segment_type_Offline           0.546354\n",
       "no_of_special_requests                0.209497"
      ]
     },
     "execution_count": 31,
     "metadata": {},
     "output_type": "execute_result"
    }
   ],
   "source": [
    "# Finding the odds\n",
    "odds = np.exp(log_reg.coef_[0]) \n",
    "\n",
    "# Adding the odds to a dataframe and sorting the values\n",
    "pd.DataFrame(odds, X_train.columns, columns = ['odds']).sort_values(by = 'odds', ascending = False) "
   ]
  },
  {
   "cell_type": "markdown",
   "id": "CrAAeUQ6B5gw",
   "metadata": {
    "id": "CrAAeUQ6B5gw"
   },
   "source": [
    "**Observations:**\n",
    "- The odds of people who booked online to cancel the booking are 1.89 times the odds of a customer who booked through other methods. \n",
    "- The odds of people who did not select any meal plan to cancel the booking are 1.38 times the odds of a customer who did select meal plans. \n",
    "- As the number of weekend nights increases, the cancelation is also more likely to occur. "
   ]
  },
  {
   "cell_type": "markdown",
   "id": "5tmEHXWyB5gw",
   "metadata": {
    "id": "5tmEHXWyB5gw"
   },
   "source": [
    "**Now, let's check the performance of the model on the training set**."
   ]
  },
  {
   "cell_type": "markdown",
   "id": "4YW-BC7HB5gw",
   "metadata": {
    "id": "4YW-BC7HB5gw"
   },
   "source": [
    "### **Question 7: Check the performance on the training data and write your observations from the below classification report and confusion matrix for the training set (3 Marks)**"
   ]
  },
  {
   "cell_type": "code",
   "execution_count": 32,
   "id": "aT0GFtq0B5gw",
   "metadata": {
    "id": "aT0GFtq0B5gw"
   },
   "outputs": [
    {
     "name": "stdout",
     "output_type": "stream",
     "text": [
      "              precision    recall  f1-score   support\n",
      "\n",
      "           0       0.82      0.89      0.86     17029\n",
      "           1       0.74      0.61      0.67      8363\n",
      "\n",
      "    accuracy                           0.80     25392\n",
      "   macro avg       0.78      0.75      0.76     25392\n",
      "weighted avg       0.79      0.80      0.79     25392\n",
      "\n"
     ]
    },
    {
     "data": {
      "image/png": "[encoded data removed]",
      "text/plain": [
       "<Figure size 576x360 with 2 Axes>"
      ]
     },
     "metadata": {
      "needs_background": "light"
     },
     "output_type": "display_data"
    }
   ],
   "source": [
    "# Checking the performance on the training data\n",
    "y_pred_train = log_reg.predict(X_train)\n",
    "\n",
    "metrics_score(y_train, y_pred_train)"
   ]
  },
  {
   "cell_type": "markdown",
   "id": "-2XFp2ldB5gw",
   "metadata": {
    "id": "-2XFp2ldB5gw"
   },
   "source": [
    "**Reading confusion matrix (clockwise):**\n",
    "\n",
    "- **True Positive**: Predicting the customer will not cancel the booking and the customer does not cancel the booking.\n",
    "- **False Negative**: Predicting the customer will cancel the booking but the customer does not cancel the booking.\n",
    "- **True Negative**: Predicting the customer will cancel the booking and the customer cancels the booking.\n",
    "- **False Positive**: Predicting the customer will not cancel the booking but the customer cancels the booking."
   ]
  },
  {
   "cell_type": "markdown",
   "id": "NfG2Uv44B5gw",
   "metadata": {
    "id": "NfG2Uv44B5gw"
   },
   "source": [
    "**Observations:**\n",
    "- We get the accuracy of about 80% on the train data. \n",
    "- The recall for this model is 61% for class 1 and the precision is 74%.\n",
    "- Also looking at the confusion matrix I think the model is not so bad. "
   ]
  },
  {
   "cell_type": "markdown",
   "id": "TkZTuLzOB5gw",
   "metadata": {
    "id": "TkZTuLzOB5gw"
   },
   "source": [
    "**Precision-Recall Curve for Logistic Regression**"
   ]
  },
  {
   "cell_type": "code",
   "execution_count": 33,
   "id": "ne1gVMi0B5gw",
   "metadata": {
    "id": "ne1gVMi0B5gw",
    "outputId": "e60e8d98-d276-4531-e9a4-ce7fd3dd2489"
   },
   "outputs": [
    {
     "data": {
      "image/png": "[encoded data removed]",
      "text/plain": [
       "<Figure size 720x504 with 1 Axes>"
      ]
     },
     "metadata": {
      "needs_background": "light"
     },
     "output_type": "display_data"
    }
   ],
   "source": [
    "# predict_proba gives the probability of each observation belonging to each class\n",
    "\n",
    "y_scores = log_reg.predict_proba(X_train) \n",
    "\n",
    "precisions, recalls, thresholds = precision_recall_curve(y_train, y_scores[:,1])\n",
    "\n",
    "# Plotting values of precisions, recalls, and thresholds\n",
    "plt.figure(figsize = (10, 7))\n",
    "\n",
    "plt.plot(thresholds, precisions[:-1], 'b--', label = 'precision')\n",
    "\n",
    "plt.plot(thresholds, recalls[:-1], 'g--', label = 'recall')\n",
    "\n",
    "plt.xlabel('Threshold')\n",
    "\n",
    "plt.legend(loc = 'upper left')\n",
    "\n",
    "plt.ylim([0, 1])\n",
    "\n",
    "plt.show()"
   ]
  },
  {
   "cell_type": "markdown",
   "id": "676yoSmMB5gw",
   "metadata": {
    "id": "676yoSmMB5gw"
   },
   "source": [
    "**Observations:**\n",
    "\n",
    "- We can see that **the precision and the recall are balanced for the threshold of about 0.4.**\n",
    "- Let's try to calculate the exact threshold where precision and recall are equal."
   ]
  },
  {
   "cell_type": "code",
   "execution_count": 34,
   "id": "duwHQdZrB5gw",
   "metadata": {
    "id": "duwHQdZrB5gw",
    "outputId": "a6476065-784a-4f69-ef04-9ca2f518e331"
   },
   "outputs": [],
   "source": [
    "# Calculating the exact threshold where precision and recall are equal\n",
    "for i in np.arange(len(thresholds)):\n",
    "    if precisions[i] == recalls[i]:\n",
    "         print(thresholds[i])"
   ]
  },
  {
   "cell_type": "markdown",
   "id": "XjpyEDytB5gx",
   "metadata": {
    "id": "XjpyEDytB5gx"
   },
   "source": [
    "- The threshold of 0.42 would give a balanced precision and recall."
   ]
  },
  {
   "cell_type": "markdown",
   "id": "--3lsaKwB5gx",
   "metadata": {
    "id": "--3lsaKwB5gx"
   },
   "source": [
    "### **Question 8: Compare the performance of the model on the training set after changing the threshold and check the performance on the testing set  (2 Marks)**"
   ]
  },
  {
   "cell_type": "code",
   "execution_count": 35,
   "id": "5G_ZzHenB5gx",
   "metadata": {
    "id": "5G_ZzHenB5gx",
    "outputId": "8a28ec3e-0fdf-4f44-90f4-d24241464a4e"
   },
   "outputs": [
    {
     "name": "stdout",
     "output_type": "stream",
     "text": [
      "              precision    recall  f1-score   support\n",
      "\n",
      "           0       0.84      0.84      0.84     17029\n",
      "           1       0.68      0.68      0.68      8363\n",
      "\n",
      "    accuracy                           0.79     25392\n",
      "   macro avg       0.76      0.76      0.76     25392\n",
      "weighted avg       0.79      0.79      0.79     25392\n",
      "\n"
     ]
    },
    {
     "data": {
      "image/png": "[encoded data removed]",
      "text/plain": [
       "<Figure size 576x360 with 2 Axes>"
      ]
     },
     "metadata": {
      "needs_background": "light"
     },
     "output_type": "display_data"
    }
   ],
   "source": [
    "optimal_threshold1 = 0.42\n",
    "\n",
    "metrics_score(y_train, y_scores[:, 1] > optimal_threshold1)"
   ]
  },
  {
   "cell_type": "markdown",
   "id": "cecGaS2PB5gx",
   "metadata": {
    "id": "cecGaS2PB5gx"
   },
   "source": [
    "**Observation:**\n",
    "- With threshold = 0.42, we see that the model performance has slightly improved. The recall has increased by 7%."
   ]
  },
  {
   "cell_type": "markdown",
   "id": "dQ1BT6C0B5gx",
   "metadata": {
    "id": "dQ1BT6C0B5gx"
   },
   "source": [
    "**Let's check the performance of the model on the test data.**"
   ]
  },
  {
   "cell_type": "code",
   "execution_count": 36,
   "id": "JMIWOO1RB5gx",
   "metadata": {
    "id": "JMIWOO1RB5gx",
    "outputId": "4ace91a6-d109-4f6f-a6eb-e5153147906d"
   },
   "outputs": [
    {
     "name": "stdout",
     "output_type": "stream",
     "text": [
      "              precision    recall  f1-score   support\n",
      "\n",
      "           0       0.85      0.85      0.85      7361\n",
      "           1       0.68      0.69      0.68      3522\n",
      "\n",
      "    accuracy                           0.79     10883\n",
      "   macro avg       0.76      0.77      0.76     10883\n",
      "weighted avg       0.79      0.79      0.79     10883\n",
      "\n"
     ]
    },
    {
     "data": {
      "image/png": "[encoded data removed]",
      "text/plain": [
       "<Figure size 576x360 with 2 Axes>"
      ]
     },
     "metadata": {
      "needs_background": "light"
     },
     "output_type": "display_data"
    }
   ],
   "source": [
    "# Checking performance on the testing data\n",
    "y_pred_test = log_reg.predict_proba(X_test)\n",
    "\n",
    "metrics_score(y_test, y_pred_test[:, 1] > optimal_threshold1)"
   ]
  },
  {
   "cell_type": "markdown",
   "id": "given-relations",
   "metadata": {
    "id": "given-relations"
   },
   "source": [
    "**Observations:**\n",
    "- With threshold = 0.42, we see that the model performance on test data is almost the same as on training data, with the similar values for recall and accuracy. "
   ]
  },
  {
   "cell_type": "markdown",
   "id": "bKpO2l21B5gx",
   "metadata": {
    "id": "bKpO2l21B5gx"
   },
   "source": [
    "### **K-Nearest Neighbors (K-NN)**"
   ]
  },
  {
   "cell_type": "markdown",
   "id": "-UbHz9RuDPzc",
   "metadata": {
    "id": "-UbHz9RuDPzc"
   },
   "source": [
    "- K-NN is a distance-based algorithm and all distance-based algorithms are affected by the scale of the data.\n",
    "- We will scale the attributes (DataFrame X defined above) before building the K-NN model.\n",
    "- Then, we need to identify the value of K to be used in K-NN. We will use **GridSearchCV** to find the optimal value of K along with other hyperparameters."
   ]
  },
  {
   "cell_type": "code",
   "execution_count": 37,
   "id": "vbm0fsfIDPzk",
   "metadata": {
    "id": "vbm0fsfIDPzk"
   },
   "outputs": [],
   "source": [
    "# Scaling the data\n",
    "scaler = StandardScaler()\n",
    "\n",
    "# fit_transform the training data\n",
    "X_train_scaled = pd.DataFrame(scaler.fit_transform(X_train), columns = X_train.columns)\n",
    "\n",
    "# Transform the testing data\n",
    "X_test_scaled = pd.DataFrame(scaler.transform(X_test), columns = X_test.columns) "
   ]
  },
  {
   "cell_type": "markdown",
   "id": "oLL6b9aoB5gx",
   "metadata": {
    "id": "oLL6b9aoB5gx"
   },
   "source": [
    "### **Using GridSearchCV for find the value of K and other hyperparameters**"
   ]
  },
  {
   "cell_type": "markdown",
   "id": "LfulzSIyB5gy",
   "metadata": {
    "id": "LfulzSIyB5gy"
   },
   "source": [
    "**Points to note:**\n",
    "\n",
    "* Hyperparameter tuning is tricky in the sense that there is no direct way to calculate how a change in the hyperparameter value will reduce the loss of your model, so we usually resort to experimentation.\n",
    "* **Grid search** is a tuning technique that attempts to compute the optimum values of hyperparameters. \n",
    "* Grid search is an exhaustive search of values that tries many iterations to compute the optimum values of hyperparameters. So, **it might take up to 30 minutes for the code to run depending on the number of values and hyperparameters passed.**  \n",
    "* The hyperparameters that we are tuning are:\n",
    "\n",
    "    - **n_neighbors**: Number of neighbors to use.\n",
    "\n",
    "    - **weights={'uniform', 'distance'}**\n",
    "        - uniform : uniform weights. All points in each neighborhood are weighted equally.\n",
    "        - distance : weight points by the inverse of their distance. In this case, closer neighbors of a query point will have a greater influence than neighbors that are further away.\n",
    "\n",
    "    - **p**: When p = 1, this is equivalent to using Manhattan_distance (L1), and Euclidean_distance (L2) is used for p = 2."
   ]
  },
  {
   "cell_type": "code",
   "execution_count": 38,
   "id": "R3v6xRzPB5gy",
   "metadata": {
    "id": "R3v6xRzPB5gy",
    "outputId": "9ab983a1-2610-4a00-d4ba-fed96bc03cc4"
   },
   "outputs": [
    {
     "name": "stdout",
     "output_type": "stream",
     "text": [
      "KNeighborsClassifier(n_neighbors=14, p=1, weights='distance')\n"
     ]
    }
   ],
   "source": [
    "knn = KNeighborsClassifier()\n",
    "\n",
    "params_knn = {'n_neighbors':np.arange(2, 20, 2), 'weights':['uniform','distance'], 'p':[1, 2]}\n",
    "\n",
    "grid_knn = GridSearchCV(estimator = knn, param_grid = params_knn, scoring = 'f1', cv = 10)\n",
    "\n",
    "model_knn = grid_knn.fit(X_train_scaled,y_train)\n",
    "\n",
    "knn_estimator = model_knn.best_estimator_\n",
    "\n",
    "print(knn_estimator)"
   ]
  },
  {
   "cell_type": "markdown",
   "id": "MM7qAxAhB5gy",
   "metadata": {
    "id": "MM7qAxAhB5gy"
   },
   "source": [
    "### **Question 9:**\n",
    "\n",
    "- **Fit the KNN model on the scaled training data using the optimal values of hyperparameters obtained from GridSearchCV (1 mark)**\n",
    "- **Check the performance of the model on the scaled training and testing sets (2 Marks)**\n",
    "- **Compare the performance and write your observations (1 Marks)**"
   ]
  },
  {
   "cell_type": "code",
   "execution_count": 43,
   "id": "xI5hl_IXB5gy",
   "metadata": {
    "id": "xI5hl_IXB5gy"
   },
   "outputs": [
    {
     "data": {
      "text/plain": [
       "KNeighborsClassifier(n_neighbors=14, p=1, weights='distance')"
      ]
     },
     "execution_count": 43,
     "metadata": {},
     "output_type": "execute_result"
    }
   ],
   "source": [
    "# Fit the best estimator on the training data\n",
    "knn_estimator.fit(X_train_scaled, y_train)"
   ]
  },
  {
   "cell_type": "code",
   "execution_count": 44,
   "id": "zKgec_EJB5gy",
   "metadata": {
    "id": "zKgec_EJB5gy"
   },
   "outputs": [
    {
     "name": "stdout",
     "output_type": "stream",
     "text": [
      "              precision    recall  f1-score   support\n",
      "\n",
      "           0       0.99      1.00      1.00     17029\n",
      "           1       1.00      0.99      0.99      8363\n",
      "\n",
      "    accuracy                           0.99     25392\n",
      "   macro avg       0.99      0.99      0.99     25392\n",
      "weighted avg       0.99      0.99      0.99     25392\n",
      "\n"
     ]
    },
    {
     "data": {
      "image/png": "[encoded data removed]",
      "text/plain": [
       "<Figure size 576x360 with 2 Axes>"
      ]
     },
     "metadata": {
      "needs_background": "light"
     },
     "output_type": "display_data"
    }
   ],
   "source": [
    "# Make predictions on the scaled training data and check the performance (using metrics_score function)\n",
    "\n",
    "y_pred_train = knn_estimator.predict(X_train_scaled)\n",
    "\n",
    "metrics_score(y_train, y_pred_train)"
   ]
  },
  {
   "cell_type": "code",
   "execution_count": 45,
   "id": "XpfP_dgfB5gy",
   "metadata": {
    "id": "XpfP_dgfB5gy"
   },
   "outputs": [
    {
     "name": "stdout",
     "output_type": "stream",
     "text": [
      "              precision    recall  f1-score   support\n",
      "\n",
      "           0       0.90      0.92      0.91      7361\n",
      "           1       0.82      0.78      0.80      3522\n",
      "\n",
      "    accuracy                           0.87     10883\n",
      "   macro avg       0.86      0.85      0.85     10883\n",
      "weighted avg       0.87      0.87      0.87     10883\n",
      "\n"
     ]
    },
    {
     "data": {
      "image/png": "[encoded data removed]",
      "text/plain": [
       "<Figure size 576x360 with 2 Axes>"
      ]
     },
     "metadata": {
      "needs_background": "light"
     },
     "output_type": "display_data"
    }
   ],
   "source": [
    "# Make predictions on the scaled testing data and check the performance (using metrics_score function)\n",
    "y_pred_test = knn_estimator.predict(X_test_scaled)\n",
    "metrics_score(y_test, y_pred_test)"
   ]
  },
  {
   "cell_type": "markdown",
   "id": "nB0WT5XtB5gy",
   "metadata": {
    "id": "nB0WT5XtB5gy"
   },
   "source": [
    "**Observations:**\n",
    "- The model has significantly improved in comparison to previous model.\n",
    "- The recall on training dataset it 99% and on test data it is 78% which is also 10% higher than our previous value.\n",
    "- So there is about 78% chance that the model will detect potential customers who might cancel the hotel booking. "
   ]
  },
  {
   "cell_type": "markdown",
   "id": "TR7O3da1B5gy",
   "metadata": {
    "id": "TR7O3da1B5gy"
   },
   "source": [
    "### **Question 10: Write the conclusion on the key factors that are driving the cancellations and write your recommendations to the business on how they can minimize the number of cancellations. (5 Marks)**"
   ]
  },
  {
   "cell_type": "markdown",
   "id": "KUhaxrR7B5gy",
   "metadata": {
    "id": "KUhaxrR7B5gy"
   },
   "source": [
    "### **Conclusion:**\n",
    "\n",
    "- We have tried logistic regression and identified key variables that have an impact on cancellation of hotel booking. \n",
    "- Finally we have tried tuned K-NN algorithm, which helped to improve the recall on the training and test datasets. "
   ]
  },
  {
   "cell_type": "markdown",
   "id": "c8JXKVowB5gy",
   "metadata": {
    "id": "c8JXKVowB5gy"
   },
   "source": [
    "### **Recommendations:**\n",
    "\n",
    "- Based on the analysis we can see that people who make online booking tend to cancel the booking. So I think it is important to make some promotions. \n",
    "- We also see that people who made some requests are more likely to stay with their bookings, so it might be good idea to include more variety of possible services.\n",
    "- Offering some discounts for people who are willing to stay more than 7-10 (weekend-week) days.\n",
    "- Also try to be in touch with the customers and send them reminders about their booking. \n",
    "- One last suggestion might be to offer the opportunity of rescheduling the bookings."
   ]
  }
 ],
 "metadata": {
  "colab": {
   "collapsed_sections": [
    "seeing-newman",
    "Rf8nqbG_B5gp",
    "G7JHq3AYB5gq",
    "3CgPYw46B5gr",
    "Z8tmRu52B5gs",
    "wQyT2bnBB5gu",
    "Ik4t4tCJB5gu",
    "mysterious-sight",
    "6H725rCTB5gv",
    "qYM2U1gEB5gv",
    "5lPCFxqTB5gv",
    "4YW-BC7HB5gw",
    "--3lsaKwB5gx",
    "bKpO2l21B5gx",
    "oLL6b9aoB5gx",
    "MM7qAxAhB5gy",
    "TR7O3da1B5gy",
    "KUhaxrR7B5gy",
    "c8JXKVowB5gy"
   ],
   "name": "Learner Notebook - Project_Classification_ML_updated.ipynb",
   "provenance": []
  },
  "kernelspec": {
   "display_name": "Python 3 (ipykernel)",
   "language": "python",
   "name": "python3"
  },
  "language_info": {
   "codemirror_mode": {
    "name": "ipython",
    "version": 3
   },
   "file_extension": ".py",
   "mimetype": "text/x-python",
   "name": "python",
   "nbconvert_exporter": "python",
   "pygments_lexer": "ipython3",
   "version": "3.9.7"
  }
 },
 "nbformat": 4,
 "nbformat_minor": 5
}
